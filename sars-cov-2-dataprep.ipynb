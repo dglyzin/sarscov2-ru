{
 "cells": [
  {
   "cell_type": "code",
   "execution_count": 2,
   "metadata": {},
   "outputs": [],
   "source": [
    "from genutils import * "
   ]
  },
  {
   "cell_type": "code",
   "execution_count": 5,
   "metadata": {},
   "outputs": [
    {
     "name": "stdout",
     "output_type": "stream",
     "text": [
      "lines read:  11994\n",
      "sequences read:  5997\n",
      "sequences saved: 150\n"
     ]
    }
   ],
   "source": [
    "#1. filter out foreign sequences\n",
    "genfilename = \"/data/sars-cov-2/2020_04_27/2020-05-11-gisaid_corrected_rus.fasta\"\n",
    "allgenomes = readgenfile(genfilename)\n",
    "\n",
    "rusgenomes = filtergenomes(allgenomes, 'Rus')\n",
    "rusgenfilename = \"rus_sarscov2.fin.fas\"\n",
    "savegenfile(rusgenfilename, rusgenomes)\n",
    "        \n",
    "#for genome in rusgenomes:\n",
    "#    print(genome['header'])\n",
    "#for genome in rusgenomes:\n",
    "#    print(len(genome['sequence']))\n",
    "#dates = [ genome[\"header\"].split('|')[2] for genome in rusgenomes]\n",
    "#print(dates)"
   ]
  },
  {
   "cell_type": "code",
   "execution_count": 23,
   "metadata": {},
   "outputs": [
    {
     "name": "stdout",
     "output_type": "stream",
     "text": [
      "lines read:  11994\n",
      "sequences read:  5997\n",
      "sequences saved: 84\n",
      "sequences saved: 39\n"
     ]
    }
   ],
   "source": [
    "genfilename = \"/data/sars-cov-2/2020_04_27/2020-05-11-gisaid_corrected_rus.fasta\"\n",
    "allgenomes = readgenfile(genfilename)\n",
    "\n",
    "spbgenomes = filtergenomes(allgenomes, 'StP')\n",
    "rusgenfilename = \"spb_sarscov2.fin.fas\"\n",
    "savegenfile(rusgenfilename, spbgenomes)\n",
    "#print(spbgenomes)\n",
    "\n",
    "with open(\"/data/sars-cov-2/2020_04_27/vreden_clade.txt\", \"r\") as f:\n",
    "    vredengenomes = []\n",
    "    for line in f:\n",
    "        line = line.rstrip()\n",
    "        #print(line)\n",
    "        vredengenomes.append(filtergenomes(spbgenomes,line)[0])\n",
    "        \n",
    "\n",
    "#print(vredengenomes)\n",
    "savegenfile(\"vreden_sarscov2.fin.fas\", vredengenomes)"
   ]
  },
  {
   "cell_type": "code",
   "execution_count": 3,
   "metadata": {},
   "outputs": [
    {
     "name": "stdout",
     "output_type": "stream",
     "text": [
      "lines read:  300\n",
      "sequences read:  150\n"
     ]
    },
    {
     "data": {
      "image/png": "[encoded data removed]",
      "text/plain": [
       "<Figure size 1080x576 with 1 Axes>"
      ]
     },
     "metadata": {
      "needs_background": "light"
     },
     "output_type": "display_data"
    }
   ],
   "source": [
    "import pandas as pd  \n",
    "import numpy as np\n",
    "import matplotlib.ticker as ticker\n",
    "import matplotlib.pyplot as plt\n",
    "\n",
    "rusgenomes = readgenfile(\"rus_sarscov2.fin.fas\")\n",
    "splitheader = [ {'location':genome[\"header\"].split('|')[0], \\\n",
    "                 'code':genome[\"header\"].split('|')[1], \\\n",
    "                 'date': genome[\"header\"].split('|')[2]} \\\n",
    "               for genome in rusgenomes]\n",
    "\n",
    "# Creates DataFrame.  \n",
    "df = pd.DataFrame(splitheader)  \n",
    "df[\"date\"] = df[\"date\"].astype(\"datetime64\")  \n",
    "existdatecounts = df[\"date\"].value_counts()\n",
    "datelist = pd.date_range(df['date'].min(), df['date'].max())\n",
    "\n",
    "alldatecounts = [0]*datelist.size\n",
    "for idx, date in enumerate(datelist):\n",
    "    if date in existdatecounts:\n",
    "        alldatecounts[idx] = existdatecounts[date]\n",
    "        \n",
    "ts = pd.Series(alldatecounts,  index=datelist)\n",
    "\n",
    "ax = ts.plot(kind='bar', figsize=(15,8), yticks=range(0,max(alldatecounts)+1,2))\n",
    "ticklabels = ['']*len(ts.index)\n",
    "ticklabels[::1] = [item.strftime('%Y %b %d') for item in ts.index[::1]]\n",
    "ax.xaxis.set_major_formatter(ticker.FixedFormatter(ticklabels))\n",
    "\n",
    "\n",
    "#plt.gcf().autofmt_xdate()\n",
    "plt.show()\n",
    "\n"
   ]
  },
  {
   "cell_type": "code",
   "execution_count": 10,
   "metadata": {},
   "outputs": [
    {
     "name": "stdout",
     "output_type": "stream",
     "text": [
      "lines read:  300\n",
      "sequences read:  150\n",
      "Aligned samples from Russia: mean sequence length: 29405.0, variance: 0.0\n",
      "c 808624 0.18333027262937143\n",
      "t 1419482 0.3218232726860511\n",
      "a 1318817 0.299000623476733\n",
      "g 863827 0.19584583120784446\n",
      "\n",
      "\n"
     ]
    }
   ],
   "source": [
    "rusgenomes = readgenfile(\"rus_sarscov2.fin.fas\")\n",
    "mean,variance = getgensampleparams(rusgenomes)\n",
    "print(\"Aligned samples from Russia: mean sequence length: {}, variance: {}\".format(mean, variance))\n",
    "\n",
    "sequences = [ genome[\"sequence\"] for genome in rusgenomes]\n",
    "fullline = ''.join(sequences)\n",
    "bases = set(fullline)\n",
    "total = len(fullline)\n",
    "for character in bases:\n",
    "    count = fullline.count(character)\n",
    "    print (character, count, count/total)\n"
   ]
  },
  {
   "cell_type": "code",
   "execution_count": 11,
   "metadata": {},
   "outputs": [
    {
     "name": "stdout",
     "output_type": "stream",
     "text": [
      "lines read:  3794\n",
      "sequences read:  1897\n",
      "filtered sequences (length>29000): 1790\n",
      "Samples from China: mean sequence length: 29813.97653631285, variance: 10694.696656159349\n",
      "T 17048295 0.31945376824314975\n",
      "M 26 4.871922954361062e-07\n",
      "C 9748710 0.18267293855542013\n",
      "a 1 1.873816520908101e-08\n",
      "H 117 2.192365329462478e-06\n",
      "D 20 3.747633041816202e-07\n",
      "Y 128 2.398485146762369e-06\n",
      "V 18 3.3728697376345817e-07\n",
      "N 281095 0.005267204549446626\n",
      "B 8 1.4990532167264807e-07\n",
      "W 53 9.931227560812936e-07\n",
      "A 15870595 0.29738583107641503\n",
      "t 1 1.873816520908101e-08\n",
      "G 10417844 0.19521128199443333\n",
      "S 8 1.4990532167264807e-07\n",
      "n 21 3.935014693907012e-07\n",
      "R 45 8.432174344086454e-07\n",
      "K 33 6.183594518996734e-07\n"
     ]
    }
   ],
   "source": [
    "chinagenomes = readgenfile(\"/data/sars-cov-2/all.fasta\")\n",
    "\n",
    "longchgen = filtergensize(chinagenomes, \"greater\", 29000)\n",
    "\n",
    "print(\"filtered sequences (length>29000):\", len(longchgen))\n",
    "mean,variance = getgensampleparams(longchgen)\n",
    "\n",
    "print(\"Samples from China: mean sequence length: {}, variance: {}\".format(mean, variance))\n",
    "\n",
    "sequences = [ genome[\"sequence\"] for genome in longchgen]\n",
    "fullline = ''.join(sequences)\n",
    "bases = set(fullline)\n",
    "total = len(fullline)\n",
    "for character in bases:\n",
    "    count = fullline.count(character)\n",
    "    print (character, count, count/total)\n",
    "\n",
    "#for idx, genome in enumerate(longchgen):\n",
    "#    print (\"{}: {}\".format(idx+1,len(genome[\"sequence\"])))"
   ]
  },
  {
   "cell_type": "code",
   "execution_count": 33,
   "metadata": {},
   "outputs": [],
   "source": [
    "from ete3 import Tree, PhyloTree\n",
    "from nexus import NexusReader\n",
    "treefile = \"/data/sars-cov-2/2020_04_27/sarscov2_20200427.fin.treefile.tre\"\n",
    "\n",
    "n = NexusReader.from_file(treefile)\n",
    "#sarstree = '[&R]'+n.trees.trees[0].newick_string\n",
    "sarstree = n.trees.trees[0].newick_string\n",
    "\n",
    "t = Tree(sarstree,  format=1)\n",
    "#t = PhyloTree(sarstree)\n",
    "#print(t)"
   ]
  },
  {
   "cell_type": "code",
   "execution_count": 1,
   "metadata": {},
   "outputs": [],
   "source": []
  },
  {
   "cell_type": "code",
   "execution_count": null,
   "metadata": {},
   "outputs": [],
   "source": []
  }
 ],
 "metadata": {
  "kernelspec": {
   "display_name": "bioenv36",
   "language": "python",
   "name": "bioenv36"
  },
  "language_info": {
   "codemirror_mode": {
    "name": "ipython",
    "version": 3
   },
   "file_extension": ".py",
   "mimetype": "text/x-python",
   "name": "python",
   "nbconvert_exporter": "python",
   "pygments_lexer": "ipython3",
   "version": "3.6.10"
  }
 },
 "nbformat": 4,
 "nbformat_minor": 4
}
