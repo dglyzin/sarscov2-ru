{
 "cells": [
  {
   "cell_type": "code",
   "execution_count": null,
   "metadata": {
    "collapsed": true
   },
   "outputs": [],
   "source": [
    "from ete3 import Tree\n",
    "import Bio\n",
    "import matplotlib.pyplot as plt"
   ]
  },
  {
   "cell_type": "markdown",
   "metadata": {},
   "source": [
    "# 1. For .fast:"
   ]
  },
  {
   "cell_type": "code",
   "execution_count": null,
   "metadata": {
    "collapsed": true
   },
   "outputs": [],
   "source": [
    "from Bio import SeqIO\n",
    "\n",
    "genfilename = \"/data/sars-cov-2/2020_04_27/2020-05-11-gisaid_corrected_rus.fasta\"\n",
    "\n",
    "records_gen = SeqIO.parse(genfilename, \"fasta\")\n",
    "\n",
    "\n",
    "record = next(records_gen)\n",
    "\n",
    "print(\"len(record):\")\n",
    "print(len(record))\n",
    "\n",
    "print(\"\\nrecord.id:\")\n",
    "print(record.id)\n",
    "\n",
    "print(\"\\nrecord.name:\")\n",
    "print(record.name)\n",
    "\n",
    "print(\"\\nrecord.description:\")\n",
    "print(record.description)\n",
    "\n",
    "# long string:\n",
    "# print(record.seq)\n",
    "\n",
    "print(\"\\nSeqRecord:\")\n",
    "print(record)"
   ]
  },
  {
   "cell_type": "markdown",
   "metadata": {},
   "source": [
    "# 2. For trees:"
   ]
  },
  {
   "cell_type": "code",
   "execution_count": null,
   "metadata": {
    "collapsed": true
   },
   "outputs": [],
   "source": [
    "file_tree = \"/data/sars-cov-2/2020_04_27/sarscov2_20200427.fin.treefile.tre\""
   ]
  },
  {
   "cell_type": "code",
   "execution_count": null,
   "metadata": {
    "collapsed": true
   },
   "outputs": [],
   "source": [
    "from Bio import Phylo\n",
    "tree = Phylo.read(file_tree, \"nexus\")"
   ]
  },
  {
   "cell_type": "markdown",
   "metadata": {},
   "source": [
    "### 2.0. `Phylo.draw` failure (too long):"
   ]
  },
  {
   "cell_type": "code",
   "execution_count": null,
   "metadata": {
    "collapsed": true
   },
   "outputs": [],
   "source": [
    "# failure (too long) ():\n",
    "# Phylo.draw?"
   ]
  },
  {
   "cell_type": "markdown",
   "metadata": {},
   "source": [
    "### 2.1. `Phylo.draw  # (to file)` for small trees only:"
   ]
  },
  {
   "cell_type": "code",
   "execution_count": 2,
   "metadata": {
    "collapsed": true
   },
   "outputs": [],
   "source": [
    "# for small trees only:\n",
    "# tree.ladderize()   # Flip branches so deeper clades are displayed at top\n",
    "# Phylo.draw(tree, do_show=False)\n",
    "### Phylo.draw(tree, axes=axes, label_func=get_label, do_show=False)\n",
    "\n",
    "# plt.savefig(\"data_local/tmp.png\")"
   ]
  },
  {
   "cell_type": "markdown",
   "metadata": {},
   "source": [
    "### 2.2. `Phylo.draw_ascii` not very convenient (fast):"
   ]
  },
  {
   "cell_type": "code",
   "execution_count": null,
   "metadata": {
    "collapsed": true
   },
   "outputs": [],
   "source": [
    "# for small trees only:\n",
    "# Phylo.draw_ascii(tree)"
   ]
  },
  {
   "cell_type": "markdown",
   "metadata": {},
   "source": [
    "### 2.3. `Phylo.convert` + `ete3.Tree` \"colors\" and \"labels\" not understood. Need manual fixation"
   ]
  },
  {
   "cell_type": "code",
   "execution_count": null,
   "metadata": {
    "collapsed": true
   },
   "outputs": [],
   "source": [
    "file_tree_newick = \"data_local/sars-cov-2_2020_04_27.txt\""
   ]
  },
  {
   "cell_type": "code",
   "execution_count": null,
   "metadata": {
    "collapsed": true
   },
   "outputs": [],
   "source": [
    "# failure (colors, labels not understood):\n",
    "Phylo.convert(file_tree, \"nexus\", file_tree_newick, \"newick\")"
   ]
  },
  {
   "cell_type": "code",
   "execution_count": null,
   "metadata": {
    "collapsed": true
   },
   "outputs": [],
   "source": [
    "# fixing color, label:\n",
    "with open(file_tree_newick, \"r\") as f:\n",
    "    data = f.read()\n",
    "out = data\n",
    "out = out.replace(\",!color=#ff0000\", '')\\\n",
    "            .replace(\"[&!color=#0000ff]\", '')\\\n",
    "            .replace(\",!color=#0000ff\",'')\\\n",
    "            .replace(\"[\\[&!color=#ff0000\\]]\", '')\\\n",
    "            .replace(\"[\\[&label=ete3_quotref_301\\]]\",'')\n",
    "# out = data.replace(\"\\\\\",\"\")# .replace(\"''\",\"'\")# .replace(\"\\'\",\"'\")#.replace(\"''\",\"'\")\n",
    "# out = data.replace(\"''\",\"'\").replace(\"\\\\\",\"\").replace(\"''\",\"\")\n",
    "#file_tree_newick_fixed = \"data_local/sars-cov-2_2020_04_27_v1.txt\"\n",
    "#with open(file_tree_newick_fixed, \"w\") as f:\n",
    "#    f.write(out)\n",
    "# print(out)\n",
    "# print(\"''\" in out)"
   ]
  },
  {
   "cell_type": "code",
   "execution_count": null,
   "metadata": {
    "collapsed": true
   },
   "outputs": [],
   "source": [
    "# failure \n",
    "# tree = Tree(out,format=1,quoted_node_names=True)\n",
    "# tree = Tree(file_tree_newick,format=1, quoted_node_names=True)"
   ]
  },
  {
   "cell_type": "code",
   "execution_count": null,
   "metadata": {
    "collapsed": true
   },
   "outputs": [],
   "source": []
  }
 ],
 "metadata": {
  "kernelspec": {
   "display_name": "Python 3",
   "language": "python",
   "name": "python3"
  },
  "language_info": {
   "codemirror_mode": {
    "name": "ipython",
    "version": 3
   },
   "file_extension": ".py",
   "mimetype": "text/x-python",
   "name": "python",
   "nbconvert_exporter": "python",
   "pygments_lexer": "ipython3",
   "version": "3.6.0"
  }
 },
 "nbformat": 4,
 "nbformat_minor": 4
}
