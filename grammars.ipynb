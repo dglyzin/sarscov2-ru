{
 "cells": [
  {
   "cell_type": "code",
   "execution_count": 1,
   "metadata": {
    "collapsed": true
   },
   "outputs": [],
   "source": [
    "import grammars as gm"
   ]
  },
  {
   "cell_type": "markdown",
   "metadata": {},
   "source": [
    "Define grammar for test and it's transition/emission probabilities:"
   ]
  },
  {
   "cell_type": "code",
   "execution_count": 10,
   "metadata": {
    "collapsed": true
   },
   "outputs": [],
   "source": [
    "grammar3 = [('E', 'AE'), ('E', 'BE'),\n",
    "            ('A', 'BA'), ('A', 'BE'),\n",
    "            ('B', 'AB'), ('B', 'AE'),\n",
    "\n",
    "            ('E', 'e'), ('E', 'a'), ('E', 'b'), ('E', 'c'),\n",
    "            ('A', 'e'), ('A', 'a'), ('A', 'b'), ('A', 'c'),\n",
    "            ('B', 'e'), ('B', 'a'), ('B', 'b'), ('B', 'c')]\n",
    "\n",
    "ts3 = {('E', 'AE'): 0.5, ('E', 'BE'): 0.5,\n",
    "       ('A', 'BA'): 0.5, ('A', 'BE'): 0.5,\n",
    "       ('B', 'AB'): 0.5, ('B', 'AE'): 0.5}\n",
    "\n",
    "es3 = {('E', 'e'): 0.91, ('E', 'a'): 0.03,\n",
    "       ('E', 'b'): 0.03, ('E', 'c'): 0.03,\n",
    "\n",
    "       ('A', 'a'): 0.7, ('A', 'b'): 0.2,\n",
    "       ('A', 'c'): 0.05, ('A', 'e'): 0.05,\n",
    "\n",
    "       ('B', 'a'): 0.2, ('B', 'b'): 0.7,\n",
    "       ('B', 'c'): 0.05, ('B', 'e'): 0.05}\n"
   ]
  },
  {
   "cell_type": "markdown",
   "metadata": {},
   "source": [
    "Inside algorithm (see. Durbin p. 254):<br><br>\n",
    "\n",
    "init:<br>\n",
    "$\\alpha(:, i, i)=e_{v}(x_{i})$<br>\n",
    "main:<br>\n",
    "$\\alpha(v, i, j)=\\sum_{y=1}^{M}\\sum_{z=1}^{M}\\sum_{k=i}^{j-1}\\alpha(y, i, k)\\alpha(z, k+1, j)t_{v}(y,z)$<br>\n",
    "termination:<br>\n",
    "$P(x|\\theta)=\\alpha(1,L,1)$\n"
   ]
  },
  {
   "cell_type": "code",
   "execution_count": 11,
   "metadata": {
    "collapsed": true
   },
   "outputs": [],
   "source": [
    "ires = gm.inside(sent=list('aabcbe'), grammar=grammar3,\n",
    "                 ts=ts3, es=es3, debug=False)\n",
    "p, alpha = ires"
   ]
  },
  {
   "cell_type": "code",
   "execution_count": 12,
   "metadata": {},
   "outputs": [
    {
     "name": "stdout",
     "output_type": "stream",
     "text": [
      "alpha:\n",
      "[[[ 0.03        0.0135      0.0083775   0.00765529  0.0009397   0.02458389]\n",
      "  [ 0.          0.03        0.0135      0.0102525   0.00109785  0.02762369]\n",
      "  [ 0.          0.          0.03        0.0135      0.001215    0.02862064]\n",
      "  [ 0.          0.          0.          0.03        0.0015      0.031395  ]\n",
      "  [ 0.          0.          0.          0.          0.03        0.4095    ]\n",
      "  [ 0.          0.          0.          0.          0.          0.91      ]]\n",
      "\n",
      " [[ 0.7         0.073       0.0129075   0.00896442  0.00187439  0.01746655]\n",
      "  [ 0.          0.7         0.023       0.01437     0.00236461  0.0213415 ]\n",
      "  [ 0.          0.          0.2         0.028       0.0034575   0.02941298]\n",
      "  [ 0.          0.          0.          0.05        0.00575     0.0273975 ]\n",
      "  [ 0.          0.          0.          0.          0.2         0.336     ]\n",
      "  [ 0.          0.          0.          0.          0.          0.05      ]]\n",
      "\n",
      " [[ 0.2         0.0805      0.120795    0.00784517  0.00783118  0.02167635]\n",
      "  [ 0.          0.2         0.2555      0.008445    0.01016567  0.02001792]\n",
      "  [ 0.          0.          0.7         0.008       0.012195    0.01341585]\n",
      "  [ 0.          0.          0.          0.05        0.01825     0.0153975 ]\n",
      "  [ 0.          0.          0.          0.          0.7         0.096     ]\n",
      "  [ 0.          0.          0.          0.          0.          0.05      ]]]\n"
     ]
    }
   ],
   "source": [
    "print(\"alpha:\")\n",
    "print(alpha)"
   ]
  },
  {
   "cell_type": "code",
   "execution_count": 13,
   "metadata": {},
   "outputs": [
    {
     "name": "stdout",
     "output_type": "stream",
     "text": [
      "p(sent|grammar) = alpha(1, L, 1):\n",
      "0.0245838891309\n"
     ]
    }
   ],
   "source": [
    "print(\"p(sent|grammar) = alpha(1, L, 1):\")\n",
    "print(p)"
   ]
  },
  {
   "cell_type": "markdown",
   "metadata": {},
   "source": [
    "Outside algorithm (see. Durbin p. 255):<br><br>\n",
    "init:<br>\n",
    "$\\beta(\"E\", 1, L)=1$<br>\n",
    "$\\beta(:, 1, L)=0$<br>\n",
    "main:<br>\n",
    "$\\beta(v, i, j)=\\sum_{y,z}\\sum_{k=1}^{i-1}\\alpha(z, k, i-1)\\beta(y, k, j)t_{y}(z,v)\n",
    "     +\\sum_{y,z}\\sum_{k=j+1}^{L}\\alpha(z, j+1, k)\\beta(y, i, k)t_{y}(v,z)$<br>\n",
    "termination:<br>\n",
    "$P(x|\\theta)=\\sum_{v=1}^{M}\\beta(v,i,i)e_{v}(x_{i})$"
   ]
  },
  {
   "cell_type": "code",
   "execution_count": 15,
   "metadata": {},
   "outputs": [],
   "source": [
    "ores = gm.outside(alpha, sent=list(\"aabcbe\"), grammar=grammar3,\n",
    "                  ts=ts3, es=es3,\n",
    "                  debug=False)\n",
    "pb, beta = ores"
   ]
  },
  {
   "cell_type": "code",
   "execution_count": 16,
   "metadata": {},
   "outputs": [
    {
     "name": "stdout",
     "output_type": "stream",
     "text": [
      "beta:\n",
      "[[[ 0.          0.          0.          0.          0.          1.        ]\n",
      "  [ 0.          0.          0.          0.          0.          0.        ]\n",
      "  [ 0.          0.          0.          0.          0.          0.        ]\n",
      "  [ 0.          0.          0.          0.          0.          0.        ]\n",
      "  [ 0.          0.          0.          0.          0.          0.        ]\n",
      "  [ 0.          0.          0.          0.          0.          0.        ]]\n",
      "\n",
      " [[ 0.02616165  0.0318703   0.03047363  0.370825    0.455       0.        ]\n",
      "  [ 0.          0.          0.          0.          0.          0.        ]\n",
      "  [ 0.          0.          0.          0.          0.          0.        ]\n",
      "  [ 0.          0.          0.          0.          0.          0.        ]\n",
      "  [ 0.          0.          0.          0.          0.          0.        ]\n",
      "  [ 0.          0.          0.          0.          0.          0.        ]]\n",
      "\n",
      " [[ 0.03135368  0.0265724   0.03217988  0.257075    0.455       0.        ]\n",
      "  [ 0.          0.          0.          0.          0.          0.        ]\n",
      "  [ 0.          0.          0.          0.          0.          0.        ]\n",
      "  [ 0.          0.          0.          0.          0.          0.        ]\n",
      "  [ 0.          0.          0.          0.          0.          0.        ]\n",
      "  [ 0.          0.          0.          0.          0.          0.        ]]]\n"
     ]
    }
   ],
   "source": [
    "print(\"beta:\")\n",
    "print(beta)"
   ]
  },
  {
   "cell_type": "code",
   "execution_count": 17,
   "metadata": {},
   "outputs": [
    {
     "name": "stdout",
     "output_type": "stream",
     "text": [
      "p(sent|grammar) = \\sum_{v \\in [1 .. M]} beta(i, i, v) * e_{v}(x_{i}):\n",
      "[0.024583889130937498, 0.0, 0.0, 0.0, 0.0, 0.0]\n"
     ]
    }
   ],
   "source": [
    "print(\"p(sent|grammar) = \\sum_{v \\in [1 .. M]} beta(i, i, v) * e_{v}(x_{i}):\")\n",
    "print(pb)"
   ]
  },
  {
   "cell_type": "markdown",
   "metadata": {},
   "source": [
    "EM algorithm (see. Durbin p. 255):<br><br>\n",
    "$t_{v}(y, z) = \\frac{c(v->yz)}{c(v)}$<br>\n",
    "$e_{v}(a) = \\frac{c(v->a)}{c(v)}$\n"
   ]
  },
  {
   "cell_type": "code",
   "execution_count": 18,
   "metadata": {},
   "outputs": [],
   "source": [
    "t1, e1 = gm.em_step(alpha, beta, sent=list(\"aabcbe\"),\n",
    "                    grammar=grammar3,\n",
    "                    ts=ts3, es=es3)"
   ]
  },
  {
   "cell_type": "code",
   "execution_count": 19,
   "metadata": {},
   "outputs": [
    {
     "name": "stdout",
     "output_type": "stream",
     "text": [
      "estimated transitions:\n",
      "{('E', 'AE'): 0.55336546681217558, ('E', 'BE'): 0.44663453318782442, ('A', 'BA'): 0.21034596855890389, ('A', 'BE'): 0.063232885679005438, ('B', 'AB'): 0.54709545140057314, ('B', 'AE'): 0.10213270369104736}\n"
     ]
    }
   ],
   "source": [
    "print(\"estimated transitions:\")\n",
    "print(t1)\n"
   ]
  },
  {
   "cell_type": "code",
   "execution_count": 20,
   "metadata": {},
   "outputs": [
    {
     "name": "stdout",
     "output_type": "stream",
     "text": [
      "estimated emission:\n",
      "{('E', 'e'): 0.0, ('E', 'a'): 0.0, ('E', 'b'): 0.0, ('E', 'c'): 0.0, ('A', 'a'): 0.7264211457620906, ('A', 'b'): 0.0, ('A', 'c'): 0.0, ('A', 'e'): 0.0, ('B', 'a'): 0.35077184490837959, ('B', 'b'): 0.0, ('B', 'c'): 0.0, ('B', 'e'): 0.0}\n"
     ]
    }
   ],
   "source": [
    "print(\"estimated emission:\")\n",
    "print(e1)\n"
   ]
  },
  {
   "cell_type": "markdown",
   "metadata": {},
   "source": [
    "All rules like $W_{v}->W_{y}W_{z}$ and $W_{v}-> a$ sum to 1 for same $W_{v}$:"
   ]
  },
  {
   "cell_type": "code",
   "execution_count": 21,
   "metadata": {},
   "outputs": [
    {
     "name": "stdout",
     "output_type": "stream",
     "text": [
      "1.0\n",
      "1.0\n",
      "1.0\n"
     ]
    }
   ],
   "source": [
    "for w in [\"E\", \"A\", \"B\"]:\n",
    "    print(sum([t1[(v, yz)] for (v, yz) in t1 if v == w]\n",
    "               + [e1[(v, e)] for (v, e) in e1 if v == w]))"
   ]
  },
  {
   "cell_type": "code",
   "execution_count": null,
   "metadata": {
    "collapsed": true
   },
   "outputs": [],
   "source": []
  }
 ],
 "metadata": {
  "kernelspec": {
   "display_name": "Python [conda env:math]",
   "language": "python",
   "name": "conda-env-math-py"
  },
  "language_info": {
   "codemirror_mode": {
    "name": "ipython",
    "version": 3
   },
   "file_extension": ".py",
   "mimetype": "text/x-python",
   "name": "python",
   "nbconvert_exporter": "python",
   "pygments_lexer": "ipython3",
   "version": "3.6.2"
  }
 },
 "nbformat": 4,
 "nbformat_minor": 2
}
