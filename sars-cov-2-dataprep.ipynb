{
 "cells": [
  {
   "cell_type": "code",
   "execution_count": 1,
   "metadata": {},
   "outputs": [],
   "source": [
    "#utilities\n",
    "def readgenfile(filename):\n",
    "    count = 0 \n",
    "    with open(filename,'r') as f:\n",
    "        header = ''\n",
    "        gotheader = False\n",
    "        genomes = []\n",
    "        for line in f:\n",
    "            #print(line[0])\n",
    "            if gotheader:\n",
    "                genomes.append({'header':header.rstrip(), 'sequence':line.rstrip()})\n",
    "                gotheader = False\n",
    "            elif line[0]=='>':\n",
    "                header = line[1:]\n",
    "                gotheader = True        \n",
    "            count += 1\n",
    "    print (\"lines read: \", count)\n",
    "    print (\"sequences read: \", len(genomes))\n",
    "    return genomes\n",
    "\n",
    "def savegenfile(filename, genomes):\n",
    "    count = 0\n",
    "    with open(filename,'w') as f:\n",
    "        for genome in genomes:\n",
    "            f.write('>'+genome[\"header\"])\n",
    "            f.write('\\n')\n",
    "            f.write(genome[\"sequence\"])\n",
    "            f.write('\\n')\n",
    "            count += 1\n",
    "    print('sequences saved:', count)\n",
    "\n",
    "def filtergenomes(genomes, filter):\n",
    "    return [genome for genome in genomes if filter in genome[\"header\"] ]"
   ]
  },
  {
   "cell_type": "code",
   "execution_count": 3,
   "metadata": {},
   "outputs": [
    {
     "name": "stdout",
     "output_type": "stream",
     "text": [
      "lines read:  11938\n",
      "sequences read:  5969\n",
      "sequences saved: 150\n"
     ]
    }
   ],
   "source": [
    "#1. filter out foreign sequences\n",
    "genfilename = \"/home/dglyzin/data/sars-cov-2/2020_04_27/sarscov2_20200427.fin.fas\"\n",
    "allgenomes = readgenfile(genfilename)\n",
    "\n",
    "rusgenomes = filtergenomes(allgenomes, 'Russ')\n",
    "rusgenfilename = \"rus_sarscov2.fin.fas\"\n",
    "savegenfile(rusgenfilename, rusgenomes)\n",
    "        \n",
    "#for genome in rusgenomes:\n",
    "#    print(genome['header'])\n",
    "#for genome in rusgenomes:\n",
    "#    print(len(genome['sequence']))\n",
    "#dates = [ genome[\"header\"].split('|')[2] for genome in rusgenomes]\n",
    "#print(dates)"
   ]
  },
  {
   "cell_type": "code",
   "execution_count": 6,
   "metadata": {},
   "outputs": [
    {
     "name": "stdout",
     "output_type": "stream",
     "text": [
      "lines read:  300\n",
      "sequences read:  150\n"
     ]
    },
    {
     "data": {
      "image/png": "[encoded data removed]",
      "text/plain": [
       "<Figure size 1440x720 with 1 Axes>"
      ]
     },
     "metadata": {
      "needs_background": "light"
     },
     "output_type": "display_data"
    }
   ],
   "source": [
    "import pandas as pd  \n",
    "import numpy as np\n",
    "import matplotlib.ticker as ticker\n",
    "import matplotlib.pyplot as plt\n",
    "\n",
    "rusgenomes = readgenfile(\"rus_sarscov2.fin.fas\")\n",
    "splitheader = [ {'location':genome[\"header\"].split('|')[0], \\\n",
    "                 'code':genome[\"header\"].split('|')[1], \\\n",
    "                 'date': genome[\"header\"].split('|')[2]} \\\n",
    "               for genome in rusgenomes]\n",
    "\n",
    "# Creates DataFrame.  \n",
    "df = pd.DataFrame(splitheader)  \n",
    "df[\"date\"] = df[\"date\"].astype(\"datetime64\")  \n",
    "existdatecounts = df[\"date\"].value_counts()\n",
    "datelist = pd.date_range(df['date'].min(), df['date'].max())\n",
    "\n",
    "alldatecounts = [0]*datelist.size\n",
    "for idx, date in enumerate(datelist):\n",
    "    if date in existdatecounts:\n",
    "        alldatecounts[idx] = existdatecounts[date]\n",
    "        \n",
    "ts = pd.Series(alldatecounts,  index=datelist)\n",
    "\n",
    "ax = ts.plot(kind='bar', figsize=(20,10), yticks=range(0,max(alldatecounts)+1,2))\n",
    "ticklabels = ['']*len(ts.index)\n",
    "ticklabels[::1] = [item.strftime('%Y %b %d') for item in ts.index[::1]]\n",
    "ax.xaxis.set_major_formatter(ticker.FixedFormatter(ticklabels))\n",
    "\n",
    "\n",
    "#plt.gcf().autofmt_xdate()\n",
    "plt.show()\n",
    "\n"
   ]
  },
  {
   "cell_type": "code",
   "execution_count": null,
   "metadata": {},
   "outputs": [],
   "source": []
  }
 ],
 "metadata": {
  "kernelspec": {
   "display_name": "Python 3",
   "language": "python",
   "name": "python3"
  },
  "language_info": {
   "codemirror_mode": {
    "name": "ipython",
    "version": 3
   },
   "file_extension": ".py",
   "mimetype": "text/x-python",
   "name": "python",
   "nbconvert_exporter": "python",
   "pygments_lexer": "ipython3",
   "version": "3.7.6"
  }
 },
 "nbformat": 4,
 "nbformat_minor": 4
}
