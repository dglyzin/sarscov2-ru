{
 "cells": [
  {
   "cell_type": "markdown",
   "metadata": {},
   "source": [
    "### HMM: CpG Islands\n",
    "Using python for finding HMM (hidden Markov model) given observed data. Unfair coin example used (Which can be transformed to CpG Islands problem)."
   ]
  },
  {
   "cell_type": "code",
   "execution_count": 1,
   "metadata": {},
   "outputs": [],
   "source": [
    "import numpy as np\n",
    "import matplotlib.pyplot as plt\n",
    "from pandas import DataFrame"
   ]
  },
  {
   "cell_type": "markdown",
   "metadata": {},
   "source": [
    "Define original model:"
   ]
  },
  {
   "cell_type": "code",
   "execution_count": 2,
   "metadata": {},
   "outputs": [],
   "source": [
    "coin_vs = [\"fair\", \"unfair\"]\n",
    "coin_ps = [[0.93, 0.07],[0.3, 0.7]]\n",
    "\n",
    "# None means unknown:\n",
    "flip_vs = [\"head\", \"tails\"]\n",
    "flip_ps = [[0.5, 0.5],[0.9, 0.1]]\n",
    "\n",
    "\n",
    "def sample(N, transition_matrix, transition_values,\n",
    "           emission_matrix, emission_values, states):\n",
    "    N -= 1\n",
    "    if N<=0:\n",
    "        return(DataFrame(states))\n",
    "    \n",
    "    previus_transition = states[-1][\"transition\"]\n",
    "    previus_emission = states[-1][\"emission\"]\n",
    "\n",
    "    p_t = transition_matrix[transition_values.index(previus_transition)]\n",
    "    # print(p_t)\n",
    "    coin = np.random.choice(transition_values, p=p_t)\n",
    "    \n",
    "    p_e = emission_matrix[emission_values.index(previus_emission)]\n",
    "    flip = np.random.choice(emission_values, p=p_e)\n",
    "    \n",
    "    return(sample(N, transition_matrix, transition_values,\n",
    "                  emission_matrix, emission_values,\n",
    "                  states+[{\"transition\": coin, \"emission\": flip}]))"
   ]
  },
  {
   "cell_type": "markdown",
   "metadata": {},
   "source": [
    "Generate observed data:"
   ]
  },
  {
   "cell_type": "code",
   "execution_count": 3,
   "metadata": {},
   "outputs": [
    {
     "data": {
      "text/html": [
       "<div>\n",
       "<style scoped>\n",
       "    .dataframe tbody tr th:only-of-type {\n",
       "        vertical-align: middle;\n",
       "    }\n",
       "\n",
       "    .dataframe tbody tr th {\n",
       "        vertical-align: top;\n",
       "    }\n",
       "\n",
       "    .dataframe thead th {\n",
       "        text-align: right;\n",
       "    }\n",
       "</style>\n",
       "<table border=\"1\" class=\"dataframe\">\n",
       "  <thead>\n",
       "    <tr style=\"text-align: right;\">\n",
       "      <th></th>\n",
       "      <th>transition</th>\n",
       "      <th>emission</th>\n",
       "    </tr>\n",
       "  </thead>\n",
       "  <tbody>\n",
       "    <tr>\n",
       "      <th>0</th>\n",
       "      <td>fair</td>\n",
       "      <td>head</td>\n",
       "    </tr>\n",
       "    <tr>\n",
       "      <th>1</th>\n",
       "      <td>fair</td>\n",
       "      <td>head</td>\n",
       "    </tr>\n",
       "    <tr>\n",
       "      <th>2</th>\n",
       "      <td>fair</td>\n",
       "      <td>head</td>\n",
       "    </tr>\n",
       "    <tr>\n",
       "      <th>3</th>\n",
       "      <td>unfair</td>\n",
       "      <td>tails</td>\n",
       "    </tr>\n",
       "    <tr>\n",
       "      <th>4</th>\n",
       "      <td>unfair</td>\n",
       "      <td>head</td>\n",
       "    </tr>\n",
       "    <tr>\n",
       "      <th>5</th>\n",
       "      <td>unfair</td>\n",
       "      <td>head</td>\n",
       "    </tr>\n",
       "    <tr>\n",
       "      <th>6</th>\n",
       "      <td>unfair</td>\n",
       "      <td>tails</td>\n",
       "    </tr>\n",
       "    <tr>\n",
       "      <th>7</th>\n",
       "      <td>unfair</td>\n",
       "      <td>head</td>\n",
       "    </tr>\n",
       "    <tr>\n",
       "      <th>8</th>\n",
       "      <td>fair</td>\n",
       "      <td>head</td>\n",
       "    </tr>\n",
       "    <tr>\n",
       "      <th>9</th>\n",
       "      <td>fair</td>\n",
       "      <td>head</td>\n",
       "    </tr>\n",
       "  </tbody>\n",
       "</table>\n",
       "</div>"
      ],
      "text/plain": [
       "  transition emission\n",
       "0       fair     head\n",
       "1       fair     head\n",
       "2       fair     head\n",
       "3     unfair    tails\n",
       "4     unfair     head\n",
       "5     unfair     head\n",
       "6     unfair    tails\n",
       "7     unfair     head\n",
       "8       fair     head\n",
       "9       fair     head"
      ]
     },
     "execution_count": 3,
     "metadata": {},
     "output_type": "execute_result"
    }
   ],
   "source": [
    "N = 900\n",
    "data = sample(N, coin_ps, coin_vs, flip_ps, flip_vs,\n",
    "              [{\"transition\":\"fair\", \"emission\":\"head\"}])\n",
    "data[:10]"
   ]
  },
  {
   "cell_type": "code",
   "execution_count": 4,
   "metadata": {},
   "outputs": [],
   "source": [
    "obs = np.array(list(map(lambda x: 0 if x == \"head\" else 1, data[\"emission\"])))"
   ]
  },
  {
   "cell_type": "markdown",
   "metadata": {},
   "source": [
    "Using `bayespy`:"
   ]
  },
  {
   "cell_type": "code",
   "execution_count": null,
   "metadata": {},
   "outputs": [],
   "source": [
    "from bayespy.nodes import Dirichlet                                   \n",
    "from bayespy.nodes import CategoricalMarkovChain                      \n",
    "from bayespy.nodes import Categorical, Mixture   "
   ]
  },
  {
   "cell_type": "markdown",
   "metadata": {},
   "source": [
    "Define init model:"
   ]
  },
  {
   "cell_type": "code",
   "execution_count": 11,
   "metadata": {},
   "outputs": [],
   "source": [
    "a0 = [0.6, 0.4] \n",
    "# a0 = Dirichlet(1e-3*np.ones(2))\n",
    "\n",
    "A = [[0.5, 0.5], \n",
    "     [0.5, 0.5]] \n",
    "# A = Dirichlet(1e-3*np.ones((2, 2)))\n",
    "Z = CategoricalMarkovChain(a0, A, states=N)\n",
    "# Z = CategoricalMarkovChain(a0, A, states=N,plates=(N,))\n",
    "\n",
    "P = [[0.5, 0.5],\n",
    "     [0.5, 0.5]]\n",
    "\n",
    "# b0 = Dirichlet(1e-3*np.ones(2))\n",
    "# B = Dirichlet(1e-3*np.ones((2, 2)))\n",
    "\n",
    "Y = Mixture(Z, Categorical, P)\n",
    "# Y = Mixture(Z, Dirichlet)\n",
    "# Y = Mixture(Z, Dirichlet, 1e-3*np.ones((2,2)), plates=(N,))"
   ]
  },
  {
   "cell_type": "markdown",
   "metadata": {},
   "source": [
    "Set observed variables:"
   ]
  },
  {
   "cell_type": "code",
   "execution_count": 13,
   "metadata": {},
   "outputs": [],
   "source": [
    "Y.observe(obs)"
   ]
  },
  {
   "cell_type": "markdown",
   "metadata": {},
   "source": [
    "Using variational Bayesian inference:"
   ]
  },
  {
   "cell_type": "code",
   "execution_count": 14,
   "metadata": {},
   "outputs": [],
   "source": [
    "from bayespy.inference import VB"
   ]
  },
  {
   "cell_type": "code",
   "execution_count": 15,
   "metadata": {},
   "outputs": [],
   "source": [
    "Q = VB(Y, Z)"
   ]
  },
  {
   "cell_type": "code",
   "execution_count": 16,
   "metadata": {},
   "outputs": [
    {
     "name": "stdout",
     "output_type": "stream",
     "text": [
      "Iteration 1: loglike=-6.238325e+02 (0.405 seconds)\n",
      "Iteration 2: loglike=-6.238325e+02 (0.384 seconds)\n",
      "Converged at iteration 2.\n"
     ]
    }
   ],
   "source": [
    "Q.update(repeat=1000)"
   ]
  },
  {
   "cell_type": "markdown",
   "metadata": {},
   "source": [
    "Results:"
   ]
  },
  {
   "cell_type": "code",
   "execution_count": 17,
   "metadata": {},
   "outputs": [
    {
     "name": "stdout",
     "output_type": "stream",
     "text": [
      "[0.5 0.5]\n",
      "[array([[-0.69314718, -0.69314718],\n",
      "       [-0.69314718, -0.69314718]])]\n"
     ]
    }
   ],
   "source": [
    "print(Y.parents[0].get_moments()[0][-1])\n",
    "print(Z.parents[1].get_moments())"
   ]
  },
  {
   "cell_type": "code",
   "execution_count": 10,
   "metadata": {},
   "outputs": [],
   "source": []
  },
  {
   "cell_type": "code",
   "execution_count": 18,
   "metadata": {},
   "outputs": [],
   "source": []
  },
  {
   "cell_type": "code",
   "execution_count": 19,
   "metadata": {},
   "outputs": [
    {
     "data": {
      "text/plain": [
       "\"\\nimport pymc\\n\\nxt1 = pymc.Categorical('xt1',[0.5,0.5]) \\n\\n# Priors on unknown parameters:\\nalpha = pymc.Normal('alpha',mu=0,tau=.01)\\n\\nxt1 = pymc.Categorical('xt1',[0.5,0.5])                              \\n\\n@pymc.deterministic\\ndef theta(xt1=xt1,):\\n    return [0.5, 0.5 if]\\n\""
      ]
     },
     "execution_count": 19,
     "metadata": {},
     "output_type": "execute_result"
    }
   ],
   "source": [
    "'''\n",
    "import pymc\n",
    "\n",
    "xt1 = pymc.Categorical('xt1',[0.5,0.5]) \n",
    "\n",
    "# Priors on unknown parameters:\n",
    "alpha = pymc.Normal('alpha',mu=0,tau=.01)\n",
    "\n",
    "xt1 = pymc.Categorical('xt1',[0.5,0.5])                              \n",
    "\n",
    "@pymc.deterministic\n",
    "def theta(xt1=xt1,):\n",
    "    return [0.5, 0.5 if]\n",
    "'''"
   ]
  },
  {
   "cell_type": "code",
   "execution_count": null,
   "metadata": {},
   "outputs": [],
   "source": []
  }
 ],
 "metadata": {
  "kernelspec": {
   "display_name": "biopython36",
   "language": "python",
   "name": "biopython36"
  },
  "language_info": {
   "codemirror_mode": {
    "name": "ipython",
    "version": 3
   },
   "file_extension": ".py",
   "mimetype": "text/x-python",
   "name": "python",
   "nbconvert_exporter": "python",
   "pygments_lexer": "ipython3",
   "version": "3.6.10"
  },
  "widgets": {
   "state": {},
   "version": "1.1.1"
  }
 },
 "nbformat": 4,
 "nbformat_minor": 4
}
