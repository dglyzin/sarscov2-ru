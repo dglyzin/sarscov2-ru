{
 "cells": [
  {
   "cell_type": "code",
   "execution_count": 110,
   "metadata": {
    "collapsed": true
   },
   "outputs": [],
   "source": [
    "import torch\n",
    "import pyro\n",
    "import pyro.distributions as dist\n",
    "from torch.distributions import constraints\n",
    "import numpy as np"
   ]
  },
  {
   "cell_type": "code",
   "execution_count": 2,
   "metadata": {
    "collapsed": true
   },
   "outputs": [],
   "source": [
    "# model\n",
    "def scale(guess):\n",
    "    weight = pyro.sample(\"weight\", dist.Normal(guess, 1.0))\n",
    "    return pyro.sample(\"measurement\", dist.Normal(weight, 0.75))\n"
   ]
  },
  {
   "cell_type": "code",
   "execution_count": 3,
   "metadata": {},
   "outputs": [
    {
     "data": {
      "text/plain": [
       "tensor(3.8493)"
      ]
     },
     "execution_count": 3,
     "metadata": {},
     "output_type": "execute_result"
    }
   ],
   "source": [
    "scale(torch.tensor(3.3))"
   ]
  },
  {
   "cell_type": "markdown",
   "metadata": {},
   "source": [
    "##### for condition\n",
    "This function is only looks at weight, that satisfy `measurement==9.5`:"
   ]
  },
  {
   "cell_type": "code",
   "execution_count": 4,
   "metadata": {
    "collapsed": true
   },
   "outputs": [],
   "source": [
    "# condition0\n",
    "def conditioned_scale_obs(guess):  # equivalent to conditioned_scale above\n",
    "    # print(\"conditioned guess:\", guess)\n",
    "    weight = pyro.sample(\"weight\", dist.Normal(guess, 1.))\n",
    "     # here we condition on measurement == 9.5\n",
    "    return pyro.sample(\"measurement\", dist.Normal(weight, 0.75), obs=9.5)"
   ]
  },
  {
   "cell_type": "markdown",
   "metadata": {},
   "source": [
    "##### for guide\n",
    "i.e. approximation for weight's posterior distribution `quides = q(z=weight) ~ p(z=weight|x=mesurment)` (will be with use of ELBO):"
   ]
  },
  {
   "cell_type": "code",
   "execution_count": 5,
   "metadata": {
    "collapsed": true
   },
   "outputs": [],
   "source": [
    "# guide0\n",
    "from torch.distributions import constraints\n",
    "\n",
    "def scale_parametrized_guide(guess):\n",
    "    \n",
    "    a = pyro.param(\"a\", torch.tensor(guess))\n",
    "    b = pyro.param(\"b\", torch.tensor(1.), constraint=constraints.positive)\n",
    "    # print(\"guide a:\", a)\n",
    "    return pyro.sample(\"weight\", dist.Normal(a, torch.abs(b)))"
   ]
  },
  {
   "cell_type": "code",
   "execution_count": 6,
   "metadata": {},
   "outputs": [
    {
     "name": "stderr",
     "output_type": "stream",
     "text": [
      "/home/valdecar/anaconda3/envs/math/lib/python3.6/site-packages/ipykernel/__main__.py:6: UserWarning: To copy construct from a tensor, it is recommended to use sourceTensor.clone().detach() or sourceTensor.clone().detach().requires_grad_(True), rather than torch.tensor(sourceTensor).\n"
     ]
    },
    {
     "data": {
      "text/plain": [
       "tensor(2.5861, grad_fn=<AddBackward0>)"
      ]
     },
     "execution_count": 6,
     "metadata": {},
     "output_type": "execute_result"
    }
   ],
   "source": [
    "scale_parametrized_guide(torch.tensor(2.2))"
   ]
  },
  {
   "cell_type": "markdown",
   "metadata": {},
   "source": [
    "##### for params"
   ]
  },
  {
   "cell_type": "code",
   "execution_count": 7,
   "metadata": {},
   "outputs": [
    {
     "name": "stdout",
     "output_type": "stream",
     "text": [
      "dict_keys(['a', 'b'])\n"
     ]
    }
   ],
   "source": [
    "print(pyro.get_param_store().keys())"
   ]
  },
  {
   "cell_type": "code",
   "execution_count": 8,
   "metadata": {
    "collapsed": true
   },
   "outputs": [],
   "source": [
    "pyro.clear_param_store()"
   ]
  },
  {
   "cell_type": "code",
   "execution_count": 9,
   "metadata": {},
   "outputs": [
    {
     "name": "stdout",
     "output_type": "stream",
     "text": [
      "dict_keys([])\n"
     ]
    }
   ],
   "source": [
    "print(pyro.get_param_store().keys())"
   ]
  },
  {
   "cell_type": "markdown",
   "metadata": {},
   "source": [
    "##### for inference\n",
    "Take such params (`a` and `b`) so they can produce `weight` (using `scale_parametrized_guide`) which satisfy condition (i.e. `conditioned_scale_ops`) (condition used as model). So we knew about `p(x|z)` and will try to find `p(z|x)`:"
   ]
  },
  {
   "cell_type": "code",
   "execution_count": 11,
   "metadata": {
    "collapsed": true
   },
   "outputs": [],
   "source": [
    "guess = 8.5\n",
    "\n",
    "pyro.clear_param_store()\n",
    "svi = pyro.infer.SVI(model=conditioned_scale_obs,\n",
    "                     guide=scale_parametrized_guide,\n",
    "                     optim=pyro.optim.SGD({\"lr\": 0.001, \"momentum\":0.1}),\n",
    "                     loss=pyro.infer.Trace_ELBO())\n",
    "\n",
    "\n",
    "losses, a,b  = [], [], []\n",
    "num_steps = 250  # 2500\n",
    "for t in range(num_steps):\n",
    "    losses.append(svi.step(guess))\n",
    "    a.append(pyro.param(\"a\").item())\n",
    "    b.append(pyro.param(\"b\").item())"
   ]
  },
  {
   "cell_type": "code",
   "execution_count": 12,
   "metadata": {},
   "outputs": [
    {
     "name": "stdout",
     "output_type": "stream",
     "text": [
      "250\n",
      "8.809281349182129\n"
     ]
    }
   ],
   "source": [
    "print(len(a))\n",
    "print(a[-1])"
   ]
  },
  {
   "cell_type": "markdown",
   "metadata": {},
   "source": [
    "##### results:"
   ]
  },
  {
   "cell_type": "code",
   "execution_count": 13,
   "metadata": {
    "collapsed": true
   },
   "outputs": [],
   "source": [
    "import matplotlib.pyplot as plt\n"
   ]
  },
  {
   "cell_type": "code",
   "execution_count": 14,
   "metadata": {},
   "outputs": [
    {
     "name": "stdout",
     "output_type": "stream",
     "text": [
      "Using matplotlib backend: Qt5Agg\n",
      "a =  8.809281349182129\n",
      "b =  0.7539201378822327\n"
     ]
    }
   ],
   "source": [
    "%matplotlib\n",
    "plt.plot(losses)\n",
    "plt.title(\"ELBO\")\n",
    "plt.xlabel(\"step\")\n",
    "plt.ylabel(\"loss\");\n",
    "print('a = ',pyro.param(\"a\").item())\n",
    "print('b = ', pyro.param(\"b\").item())"
   ]
  },
  {
   "cell_type": "code",
   "execution_count": 16,
   "metadata": {},
   "outputs": [
    {
     "name": "stdout",
     "output_type": "stream",
     "text": [
      "Using matplotlib backend: Qt5Agg\n"
     ]
    }
   ],
   "source": [
    "%matplotlib\n",
    "plt.subplot(1,2,1)\n",
    "plt.plot([0,num_steps],[9.14,9.14], 'k:')\n",
    "plt.plot(a)\n",
    "plt.ylabel('a')\n",
    "\n",
    "plt.subplot(1,2,2)\n",
    "plt.ylabel('b')\n",
    "plt.plot([0,num_steps],[0.6,0.6], 'k:')\n",
    "plt.plot(b)\n",
    "plt.tight_layout()"
   ]
  },
  {
   "cell_type": "code",
   "execution_count": 9,
   "metadata": {
    "collapsed": true
   },
   "outputs": [],
   "source": [
    "data = torch.zeros(10)\n",
    "data[0:6] = torch.ones(6)\n",
    "\n",
    "\n",
    "# for vectorized, sampled, independed:\n",
    "def model13():\n",
    "    alpha0 = torch.tensor(10.0)\n",
    "    beta0 = torch.tensor(10.0)\n",
    "\n",
    "    f = pyro.sample(\"latent_fairness\", dist.Beta(alpha0, beta0)) \n",
    "\n",
    "    # vectorized, sampled, independent:\n",
    "    with pyro.plate(\"data_loop\", size=10, subsample_size=5) as ind:\n",
    "        dd = dist.Bernoulli(f).expand([5])\n",
    "        print(\"dd.batch_shape:\")\n",
    "        print(dd.batch_shape)\n",
    "        print(\"dd.event_shape:\")\n",
    "        print(dd.event_shape)\n",
    "        print(\"ind:\")\n",
    "        print(ind)\n",
    "        a = pyro.sample(\"obs\", dd, obs=data.index_select(0, ind))\n",
    "        print(\"a:\")\n",
    "        print(a)\n"
   ]
  },
  {
   "cell_type": "code",
   "execution_count": 10,
   "metadata": {},
   "outputs": [
    {
     "name": "stdout",
     "output_type": "stream",
     "text": [
      "dd.batch_shape:\n",
      "torch.Size([5])\n",
      "dd.event_shape:\n",
      "torch.Size([])\n",
      "ind:\n",
      "tensor([8, 6, 7, 5, 0])\n",
      "a:\n",
      "tensor([0., 0., 0., 1., 1.])\n"
     ]
    }
   ],
   "source": [
    "model13()"
   ]
  },
  {
   "cell_type": "code",
   "execution_count": 117,
   "metadata": {
    "collapsed": true
   },
   "outputs": [],
   "source": [
    "\n",
    "# for vectorized, sampled, depended:\n",
    "def model23():\n",
    "    # alpha0 = torch.tensor(10.0)\n",
    "    # beta0 = torch.tensor(10.0)\n",
    "    mu = torch.tensor(0.5)\n",
    "    sigma = torch.tensor(0.1)\n",
    "\n",
    "    p = pyro.sample(\"latent_fairness\", dist.Normal(mu, sigma))\n",
    "    print(\"p = \", p)\n",
    "    \n",
    "    # vectorized, sampled, dependent:\n",
    "    with pyro.plate(\"data_loop\", size=10, subsample_size=5) as ind:\n",
    "        dd = dist.Bernoulli(p).expand([5, 2]).to_event(1)\n",
    "        print(\"dd.batch_shape:\")\n",
    "        print(dd.batch_shape)\n",
    "        print(\"dd.event_shape:\")\n",
    "        print(dd.event_shape)\n",
    "        x = dd.sample()\n",
    "        print(\"x = \", x)\n",
    "        print(\"prob(x) = \", torch.exp(dd.log_prob(x)))\n",
    "        print(\"accurate: \",\n",
    "              torch.tensor([(p if x0 else 1-p)*(p if x1 else 1-p)\n",
    "                            for x0, x1 in x]))\n",
    "        \n",
    "        print(\"ind:\")\n",
    "        print(ind)\n",
    "        a = pyro.sample(\"obs\", dd, obs=data.index_select(0, ind))\n",
    "        print(\"a:\")\n",
    "        print(a)\n"
   ]
  },
  {
   "cell_type": "code",
   "execution_count": 118,
   "metadata": {},
   "outputs": [
    {
     "name": "stdout",
     "output_type": "stream",
     "text": [
      "p =  tensor(0.5121)\n",
      "dd.batch_shape:\n",
      "torch.Size([5])\n",
      "dd.event_shape:\n",
      "torch.Size([2])\n",
      "x =  tensor([[0., 0.],\n",
      "        [1., 0.],\n",
      "        [0., 1.],\n",
      "        [1., 1.],\n",
      "        [1., 0.]])\n",
      "prob(x) =  tensor([0.2380, 0.2499, 0.2499, 0.2623, 0.2499])\n",
      "accurate:  tensor([0.2380, 0.2499, 0.2499, 0.2623, 0.2499])\n",
      "ind:\n",
      "tensor([6, 2, 9, 8, 0])\n",
      "a:\n",
      "tensor([0., 1., 0., 0., 1.])\n"
     ]
    }
   ],
   "source": [
    "model23()"
   ]
  },
  {
   "cell_type": "markdown",
   "metadata": {},
   "source": [
    "##### for \n",
    "conditionaly depended:"
   ]
  },
  {
   "cell_type": "code",
   "execution_count": 93,
   "metadata": {},
   "outputs": [
    {
     "name": "stdout",
     "output_type": "stream",
     "text": [
      "x =  tensor([[1., 0.],\n",
      "        [1., 1.],\n",
      "        [1., 1.]])\n",
      "prob(x) =  tensor([0.2100, 0.4900, 0.4900])\n",
      "accurate:  tensor([0.2100, 0.4900, 0.4900])\n"
     ]
    }
   ],
   "source": [
    "# Bernulli:\n",
    "p = 0.7\n",
    "dd = dist.Bernoulli(p*torch.ones((3,2))).to_event(1)\n",
    "x = dd.sample()\n",
    "print(\"x = \", x)\n",
    "print(\"prob(x) = \", torch.exp(dd.log_prob(x)))\n",
    "print(\"accurate: \", torch.tensor([(p if x0 else 1-p)*(p if x1 else 1-p)\n",
    "                                  for x0, x1 in x]))"
   ]
  },
  {
   "cell_type": "code",
   "execution_count": 95,
   "metadata": {},
   "outputs": [
    {
     "name": "stdout",
     "output_type": "stream",
     "text": [
      "x =  tensor([[-1.0040, -0.5045],\n",
      "        [-1.2116, -0.4331],\n",
      "        [-0.5154,  1.5380]])\n",
      "prob(x) =  tensor([0.0847, 0.0696, 0.0427])\n",
      "accurate:  tensor([0.0847, 0.0696, 0.0427], dtype=torch.float64)\n"
     ]
    }
   ],
   "source": [
    "# Normal:\n",
    "dd = dist.Normal(0.0*torch.ones((3,2)),\n",
    "                 1.0*torch.ones((3,2))).to_event(1)\n",
    "x = dd.sample()\n",
    "print(\"x = \", x)\n",
    "print(\"prob(x) = \", torch.exp(dd.log_prob(x)))\n",
    "\n",
    "f = lambda x: 1/np.sqrt(2*np.pi) * np.exp(-0.5*np.power(x,2))\n",
    "print(\"accurate: \", torch.tensor([f(x0)*f(x1) for x0, x1 in x]))"
   ]
  },
  {
   "cell_type": "code",
   "execution_count": 78,
   "metadata": {
    "collapsed": true
   },
   "outputs": [],
   "source": [
    "# dd.to_event??\n",
    "# isinstance(dd, torch.distributions.Independent)\n",
    "# torch.distributions.Independent?"
   ]
  },
  {
   "cell_type": "markdown",
   "metadata": {},
   "source": [
    "##### for \n",
    "`rand`"
   ]
  },
  {
   "cell_type": "code",
   "execution_count": 37,
   "metadata": {},
   "outputs": [
    {
     "data": {
      "text/plain": [
       "tensor([[0.7280, 0.2271],\n",
       "        [0.5586, 0.0519],\n",
       "        [0.9976, 0.1992]])"
      ]
     },
     "execution_count": 37,
     "metadata": {},
     "output_type": "execute_result"
    }
   ],
   "source": [
    "torch.rand((3,2))"
   ]
  },
  {
   "cell_type": "markdown",
   "metadata": {},
   "source": [
    "##### for \n",
    "`dist.log_prob`"
   ]
  },
  {
   "cell_type": "code",
   "execution_count": 61,
   "metadata": {
    "collapsed": true
   },
   "outputs": [],
   "source": [
    "d = torch.distributions.Normal(torch.tensor([0.0]),\n",
    "                               torch.tensor([1.0]))"
   ]
  },
  {
   "cell_type": "code",
   "execution_count": 64,
   "metadata": {
    "collapsed": true
   },
   "outputs": [],
   "source": [
    "f = lambda x: 1/np.sqrt(2*np.pi) * np.exp(-0.5*np.power(x,2))"
   ]
  },
  {
   "cell_type": "code",
   "execution_count": 66,
   "metadata": {},
   "outputs": [
    {
     "name": "stdout",
     "output_type": "stream",
     "text": [
      "accurate:  0.3989422804014327\n",
      "pyros:  tensor([0.3989])\n"
     ]
    }
   ],
   "source": [
    "print(\"accurate: \", f(0))\n",
    "print(\"pyros: \", torch.exp(d.log_prob(0.0)))"
   ]
  },
  {
   "cell_type": "code",
   "execution_count": 75,
   "metadata": {},
   "outputs": [
    {
     "name": "stdout",
     "output_type": "stream",
     "text": [
      "tensor(0.3000)\n"
     ]
    }
   ],
   "source": [
    "d = torch.distributions.Bernoulli(0.7)\n",
    "print(torch.exp(d.log_prob(0)))"
   ]
  },
  {
   "cell_type": "markdown",
   "metadata": {
    "collapsed": true
   },
   "source": [
    "##### for \n",
    "`plate`"
   ]
  },
  {
   "cell_type": "code",
   "execution_count": null,
   "metadata": {
    "collapsed": true
   },
   "outputs": [],
   "source": [
    "x_axis = pyro.plate(\"x\", 3, dim=-1)\n",
    "y_axis = pyro.plate(\"y\", 2, dim=-2)\n",
    "with x_axis:\n",
    "    x = pyro.sample(\"x\", dist.Normal(0, 1))\n",
    "with y_axis:\n",
    "    y = pyro.sample(\"y\", dist.Normal(0, 1))\n",
    "print(\"x: \", x)\n",
    "print(\"y: \", y)"
   ]
  }
 ],
 "metadata": {
  "kernelspec": {
   "display_name": "Python [conda env:math]",
   "language": "python",
   "name": "conda-env-math-py"
  },
  "language_info": {
   "codemirror_mode": {
    "name": "ipython",
    "version": 3
   },
   "file_extension": ".py",
   "mimetype": "text/x-python",
   "name": "python",
   "nbconvert_exporter": "python",
   "pygments_lexer": "ipython3",
   "version": "3.6.2"
  }
 },
 "nbformat": 4,
 "nbformat_minor": 2
}
