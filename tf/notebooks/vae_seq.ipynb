{
 "cells": [
  {
   "cell_type": "markdown",
   "metadata": {},
   "source": [
    "### Variational Autoencoders for sequences hidden conditions estimation"
   ]
  },
  {
   "cell_type": "code",
   "execution_count": 14,
   "metadata": {},
   "outputs": [],
   "source": [
    "import os\n",
    "import sys\n",
    "import inspect\n",
    "currentdir = os.path.dirname(os.path.abspath(inspect.getfile(inspect.currentframe())))\n",
    "parentdir = os.path.dirname(currentdir)\n",
    "# folder = \"env\"\n",
    "# sourcedir = currentdir.split(folder)[0]\n",
    "sys.path.insert(0, parentdir)\n",
    "# print(parentdir)\n",
    "\n",
    "import pyro\n",
    "import pyro.distributions as dist\n",
    "\n",
    "import vae_seq as vs\n"
   ]
  },
  {
   "cell_type": "markdown",
   "metadata": {},
   "source": [
    "1) convert secuences from `.fasta` to torch tensor, batching and padding: "
   ]
  },
  {
   "cell_type": "code",
   "execution_count": 2,
   "metadata": {},
   "outputs": [
    {
     "name": "stdout",
     "output_type": "stream",
     "text": [
      "EMBEDDING_DIM:  3\n",
      "BATCH_SIZE:  10\n",
      "seq_size:  1143\n"
     ]
    }
   ],
   "source": [
    "print(\"EMBEDDING_DIM: \", vs.EMBEDDING_DIM)\n",
    "print(\"BATCH_SIZE: \", vs.BATH_SIZE)\n",
    "\n",
    "data = vs.get_sequences()\n",
    "x = data[0]\n",
    "img_size = seq_size = data.shape[-1]\n",
    "print(\"seq_size: \", img_size)"
   ]
  },
  {
   "cell_type": "markdown",
   "metadata": {
    "collapsed": true
   },
   "source": [
    "2) Apply encoder:"
   ]
  },
  {
   "cell_type": "code",
   "execution_count": 4,
   "metadata": {},
   "outputs": [
    {
     "name": "stdout",
     "output_type": "stream",
     "text": [
      "z_loc, z_scale:\n",
      "torch.Size([10, 3])\n",
      "torch.Size([10, 3])\n"
     ]
    }
   ],
   "source": [
    "encoder = vs.Encoder(x.shape[-1], 3, 10)\n",
    "# encoder = Encoder(data.shape[-1], 3, 10)\n",
    "z_loc, z_scale = encoder.forward(x)\n",
    "print(\"z_loc, z_scale:\")\n",
    "\n",
    "# batch/z_dim:\n",
    "print(z_loc.shape)\n",
    "print(z_scale.shape)\n"
   ]
  },
  {
   "cell_type": "markdown",
   "metadata": {},
   "source": [
    "3) Apply decoder:"
   ]
  },
  {
   "cell_type": "code",
   "execution_count": 9,
   "metadata": {},
   "outputs": [
    {
     "name": "stdout",
     "output_type": "stream",
     "text": [
      "hidden.shape:\n",
      "torch.Size([10, 10])\n",
      "loc_img.shape:\n",
      "torch.Size([10, 1143])\n",
      "loc_img:\n",
      "torch.Size([10, 1143])\n",
      "obs (same as x because of sampling restriction):\n",
      "torch.Size([10, 1143])\n"
     ]
    },
    {
     "name": "stderr",
     "output_type": "stream",
     "text": [
      "/home/valdecar/anaconda3/envs/math/lib/python3.6/site-packages/pyro/primitives.py:86: RuntimeWarning: trying to observe a value outside of inference at obs\n",
      "  RuntimeWarning)\n"
     ]
    }
   ],
   "source": [
    "decoder = vs.vae.Decoder(x.shape[-1], 3, 10)\n",
    "z = pyro.sample(\"latent\", dist.Normal(z_loc, z_scale).to_event(1))\n",
    "loc_img = decoder.forward(z)\n",
    "print(\"loc_img:\")\n",
    "print(loc_img.shape)\n",
    "    \n",
    "obs = pyro.sample(\"obs\", dist.Bernoulli(loc_img).to_event(1),\n",
    "                  obs=x.reshape(-1, img_size))\n",
    "print(\"obs (same as x because of sampling restriction):\")\n",
    "print(obs.shape)\n"
   ]
  },
  {
   "cell_type": "markdown",
   "metadata": {},
   "source": [
    "3) Mix all together in vae (+sampling and conditioning):"
   ]
  },
  {
   "cell_type": "code",
   "execution_count": 10,
   "metadata": {},
   "outputs": [
    {
     "name": "stdout",
     "output_type": "stream",
     "text": [
      "vae.model(x):\n",
      "x.shape:\n",
      "torch.Size([10, 1143])\n",
      "z_loc.shape:\n",
      "torch.Size([10, 3])\n",
      "z_scale.shape:\n",
      "torch.Size([10, 3])\n",
      "model: z loc_dist.batch_shape:\n",
      "torch.Size([10])\n",
      "model: z loc_dist.event_shape:\n",
      "torch.Size([3])\n",
      "hidden.shape:\n",
      "torch.Size([10, 10])\n",
      "loc_img.shape:\n",
      "torch.Size([10, 1143])\n",
      "loc_img.shape:\n",
      "torch.Size([10, 1143])\n",
      "model: obs loc_dist.batch_shape:\n",
      "torch.Size([10])\n",
      "model: obs loc_dist.event_shape:\n",
      "torch.Size([1143])\n",
      "done\n",
      "vae.guide(x)\n",
      "guide: latent loc_dist.batch_shape:\n",
      "torch.Size([10])\n",
      "guide: latent loc_dist.event_shape:\n",
      "torch.Size([3])\n",
      "done\n"
     ]
    }
   ],
   "source": [
    "ovae = vs.VAE(img_size=img_size, z_dim=3, hidden_dim=10)\n",
    "print(\"vae.model(x):\")\n",
    "# x is batch\n",
    "ovae.model(x)\n",
    "print(\"done\")\n",
    "print(\"vae.guide(x)\")\n",
    "ovae.guide(x)\n",
    "print(\"done\")\n"
   ]
  },
  {
   "cell_type": "code",
   "execution_count": null,
   "metadata": {
    "collapsed": true
   },
   "outputs": [],
   "source": []
  }
 ],
 "metadata": {
  "kernelspec": {
   "display_name": "Python [conda env:math]",
   "language": "python",
   "name": "conda-env-math-py"
  },
  "language_info": {
   "codemirror_mode": {
    "name": "ipython",
    "version": 3
   },
   "file_extension": ".py",
   "mimetype": "text/x-python",
   "name": "python",
   "nbconvert_exporter": "python",
   "pygments_lexer": "ipython3",
   "version": "3.6.2"
  }
 },
 "nbformat": 4,
 "nbformat_minor": 2
}
