{
 "cells": [
  {
   "cell_type": "code",
   "execution_count": null,
   "metadata": {
    "collapsed": true
   },
   "outputs": [],
   "source": [
    "from ete3 import Tree\n",
    "import Bio\n",
    "import matplotlib.pyplot as plt"
   ]
  },
  {
   "cell_type": "markdown",
   "metadata": {},
   "source": [
    "# 1. For .fast:"
   ]
  },
  {
   "cell_type": "code",
   "execution_count": null,
   "metadata": {
    "collapsed": true
   },
   "outputs": [],
   "source": [
    "from Bio import SeqIO\n",
    "\n",
    "genfilename = \"/data/sars-cov-2/2020_04_27/2020-05-11-gisaid_corrected_rus.fasta\"\n",
    "\n",
    "records_gen = SeqIO.parse(genfilename, \"fasta\")\n",
    "\n",
    "\n",
    "record = next(records_gen)\n",
    "\n",
    "print(\"len(record):\")\n",
    "print(len(record))\n",
    "\n",
    "print(\"\\nrecord.id:\")\n",
    "print(record.id)\n",
    "\n",
    "print(\"\\nrecord.name:\")\n",
    "print(record.name)\n",
    "\n",
    "print(\"\\nrecord.description:\")\n",
    "print(record.description)\n",
    "\n",
    "# long string:\n",
    "# print(record.seq)\n",
    "\n",
    "print(\"\\nSeqRecord:\")\n",
    "print(record)"
   ]
  },
  {
   "cell_type": "markdown",
   "metadata": {},
   "source": [
    "# 2. For trees:"
   ]
  },
  {
   "cell_type": "code",
   "execution_count": null,
   "metadata": {
    "collapsed": true
   },
   "outputs": [],
   "source": [
    "file_tree = \"/data/sars-cov-2/2020_04_27/sarscov2_20200427.fin.treefile.tre\""
   ]
  },
  {
   "cell_type": "code",
   "execution_count": null,
   "metadata": {
    "collapsed": true
   },
   "outputs": [],
   "source": [
    "from Bio import Phylo\n",
    "tree = Phylo.read(file_tree, \"nexus\")"
   ]
  },
  {
   "cell_type": "markdown",
   "metadata": {},
   "source": [
    "### 2.0. `Phylo.draw` failure (too long):"
   ]
  },
  {
   "cell_type": "code",
   "execution_count": null,
   "metadata": {
    "collapsed": true
   },
   "outputs": [],
   "source": [
    "# failure (too long) ():\n",
    "# Phylo.draw?"
   ]
  },
  {
   "cell_type": "markdown",
   "metadata": {},
   "source": [
    "### 2.1. `Phylo.draw  # (to file)` for small trees only:"
   ]
  },
  {
   "cell_type": "code",
   "execution_count": 2,
   "metadata": {
    "collapsed": true
   },
   "outputs": [],
   "source": [
    "# for small trees only:\n",
    "# tree.ladderize()   # Flip branches so deeper clades are displayed at top\n",
    "# Phylo.draw(tree, do_show=False)\n",
    "### Phylo.draw(tree, axes=axes, label_func=get_label, do_show=False)\n",
    "\n",
    "# plt.savefig(\"data_local/tmp.png\")"
   ]
  },
  {
   "cell_type": "markdown",
   "metadata": {},
   "source": [
    "### 2.2. `Phylo.draw_ascii` not very convenient (fast):"
   ]
  },
  {
   "cell_type": "code",
   "execution_count": null,
   "metadata": {
    "collapsed": true
   },
   "outputs": [],
   "source": [
    "# for small trees only:\n",
    "# Phylo.draw_ascii(tree)"
   ]
  },
  {
   "cell_type": "markdown",
   "metadata": {},
   "source": [
    "### 2.3. `Phylo.convert` + `ete3.Tree` \"colors\" and \"labels\" not understood. Need manual fixation"
   ]
  },
  {
   "cell_type": "code",
   "execution_count": null,
   "metadata": {
    "collapsed": true
   },
   "outputs": [],
   "source": [
    "file_tree_newick = \"data_local/sars-cov-2_2020_04_27.txt\""
   ]
  },
  {
   "cell_type": "code",
   "execution_count": null,
   "metadata": {
    "collapsed": true
   },
   "outputs": [],
   "source": [
    "# failure (colors, labels not understood):\n",
    "Phylo.convert(file_tree, \"nexus\", file_tree_newick, \"newick\")"
   ]
  },
  {
   "cell_type": "code",
   "execution_count": null,
   "metadata": {
    "collapsed": true
   },
   "outputs": [],
   "source": [
    "# fixing color, label:\n",
    "with open(file_tree_newick, \"r\") as f:\n",
    "    data = f.read()\n",
    "out = data\n",
    "out = out.replace(\",!color=#ff0000\", '')\\\n",
    "            .replace(\"[&!color=#0000ff]\", '')\\\n",
    "            .replace(\",!color=#0000ff\",'')\\\n",
    "            .replace(\"[\\[&!color=#ff0000\\]]\", '')\\\n",
    "            .replace(\"[\\[&label=ete3_quotref_301\\]]\",'')\n",
    "# out = data.replace(\"\\\\\",\"\")# .replace(\"''\",\"'\")# .replace(\"\\'\",\"'\")#.replace(\"''\",\"'\")\n",
    "# out = data.replace(\"''\",\"'\").replace(\"\\\\\",\"\").replace(\"''\",\"\")\n",
    "#file_tree_newick_fixed = \"data_local/sars-cov-2_2020_04_27_v1.txt\"\n",
    "#with open(file_tree_newick_fixed, \"w\") as f:\n",
    "#    f.write(out)\n",
    "# print(out)\n",
    "# print(\"''\" in out)"
   ]
  },
  {
   "cell_type": "code",
   "execution_count": null,
   "metadata": {
    "collapsed": true
   },
   "outputs": [],
   "source": [
    "# failure \n",
    "# tree = Tree(out,format=1,quoted_node_names=True)\n",
    "# tree = Tree(file_tree_newick,format=1, quoted_node_names=True)"
   ]
  },
  {
   "cell_type": "code",
   "execution_count": 3,
   "metadata": {
    "collapsed": true
   },
   "outputs": [],
   "source": [
    "from genutils import * "
   ]
  },
  {
   "cell_type": "code",
   "execution_count": 2,
   "metadata": {
    "collapsed": false
   },
   "outputs": [
    {
     "name": "stdout",
     "output_type": "stream",
     "text": [
      "lines read:  11994\n",
      "sequences read:  5997\n",
      "sequences saved: 150\n"
     ]
    }
   ],
   "source": [
    "#1. filter out foreign sequences\n",
    "genfilename = \"/data/sars-cov-2/2020_04_27/2020-05-11-gisaid_corrected_rus.fasta\"\n",
    "allgenomes = readgenfile(genfilename)\n",
    "rusgenomes = filtergenomes(allgenomes, 'Rus')\n",
    "savegenfile(\"results/rus_sarscov2.fin.fas\", rusgenomes)"
   ]
  },
  {
   "cell_type": "code",
   "execution_count": 4,
   "metadata": {
    "collapsed": false
   },
   "outputs": [
    {
     "name": "stdout",
     "output_type": "stream",
     "text": [
      "lines read:  11994\n",
      "sequences read:  5997\n",
      "sequences saved: 84\n",
      "sequences saved: 39\n"
     ]
    }
   ],
   "source": [
    "#filter sbp and vreden sequences\n",
    "genfilename = \"/data/sars-cov-2/2020_04_27/2020-05-11-gisaid_corrected_rus.fasta\"\n",
    "allgenomes = readgenfile(genfilename)\n",
    "\n",
    "spbgenomes = filtergenomes(allgenomes, 'StP')\n",
    "savegenfile(\"results/spb_sarscov2.fin.fas\", spbgenomes)\n",
    "\n",
    "vredengenomes = filtergenomesbyfile(spbgenomes, \"/data/sars-cov-2/2020_04_27/vreden_clade.txt\")\n",
    "savegenfile(\"results/vreden_sarscov2.fin.fas\", vredengenomes)"
   ]
  },
  {
   "cell_type": "code",
   "execution_count": 5,
   "metadata": {
    "collapsed": false
   },
   "outputs": [
    {
     "name": "stdout",
     "output_type": "stream",
     "text": [
      "lines read:  300\n",
      "sequences read:  150\n"
     ]
    },
    {
     "data": {
      "image/png": "[encoded data removed]",
      "text/plain": [
       "<Figure size 1080x576 with 1 Axes>"
      ]
     },
     "metadata": {
      "needs_background": "light"
     },
     "output_type": "display_data"
    }
   ],
   "source": [
    "#optional - show distribution of sequence count by date\n",
    "import pandas as pd  \n",
    "import numpy as np\n",
    "import matplotlib.ticker as ticker\n",
    "import matplotlib.pyplot as plt\n",
    "\n",
    "rusgenomes = readgenfile(\"results/rus_sarscov2.fin.fas\")\n",
    "splitheader = [ {'location':genome[\"header\"].split('|')[0], \\\n",
    "                 'code':genome[\"header\"].split('|')[1], \\\n",
    "                 'date': genome[\"header\"].split('|')[2]} \\\n",
    "               for genome in rusgenomes]\n",
    "\n",
    "# Creates DataFrame.  \n",
    "df = pd.DataFrame(splitheader)  \n",
    "df[\"date\"] = df[\"date\"].astype(\"datetime64\")  \n",
    "existdatecounts = df[\"date\"].value_counts()\n",
    "datelist = pd.date_range(df['date'].min(), df['date'].max())\n",
    "\n",
    "alldatecounts = [0]*datelist.size\n",
    "for idx, date in enumerate(datelist):\n",
    "    if date in existdatecounts:\n",
    "        alldatecounts[idx] = existdatecounts[date]\n",
    "        \n",
    "ts = pd.Series(alldatecounts,  index=datelist)\n",
    "ax = ts.plot(kind='bar', figsize=(15,8), yticks=range(0,max(alldatecounts)+1,2))\n",
    "ticklabels = ['']*len(ts.index)\n",
    "ticklabels[::1] = [item.strftime('%Y %b %d') for item in ts.index[::1]]\n",
    "ax.xaxis.set_major_formatter(ticker.FixedFormatter(ticklabels))\n",
    "#plt.gcf().autofmt_xdate()\n",
    "plt.show()"
   ]
  },
  {
   "cell_type": "code",
   "execution_count": 6,
   "metadata": {
    "collapsed": false
   },
   "outputs": [
    {
     "name": "stdout",
     "output_type": "stream",
     "text": [
      "lines read:  300\n",
      "sequences read:  150\n",
      "Aligned samples from Russia: mean sequence length: 29941.0, variance: 0.0\n",
      "- 5715 0.0012725025884239003\n",
      "C 822521 0.1831426249401601\n",
      "N 6026 0.0013417498858866882\n",
      "G 878556 0.19561938479008717\n",
      "T 1438577 0.3203137281097269\n",
      "A 1339755 0.29831000968571525\n"
     ]
    }
   ],
   "source": [
    "#optional - some statistics for aligned russian sequences\n",
    "rusgenomes = readgenfile(\"results/rus_sarscov2.fin.fas\")\n",
    "mean,variance = getgensampleparams(rusgenomes)\n",
    "print(\"Aligned samples from Russia: mean sequence length: {}, variance: {}\".format(mean, variance))\n",
    "\n",
    "sequences = [ genome[\"sequence\"] for genome in rusgenomes]\n",
    "fullline = ''.join(sequences)\n",
    "bases = set(fullline)\n",
    "total = len(fullline)\n",
    "for character in bases:\n",
    "    count = fullline.count(character)\n",
    "    print (character, count, count/total)"
   ]
  },
  {
   "cell_type": "code",
   "execution_count": 7,
   "metadata": {
    "collapsed": false
   },
   "outputs": [
    {
     "name": "stdout",
     "output_type": "stream",
     "text": [
      "lines read:  3794\n",
      "sequences read:  1897\n",
      "filtered sequences (length>29000): 1790\n",
      "Samples from China: mean sequence length: 29813.97653631285, variance: 10694.696656159349\n",
      "Y 128 2.398485146762369e-06\n",
      "M 26 4.871922954361062e-07\n",
      "W 53 9.931227560812936e-07\n",
      "n 21 3.935014693907012e-07\n",
      "C 9748710 0.18267293855542013\n",
      "S 8 1.4990532167264807e-07\n",
      "N 281095 0.005267204549446626\n",
      "H 117 2.192365329462478e-06\n",
      "G 10417844 0.19521128199443333\n",
      "a 1 1.873816520908101e-08\n",
      "K 33 6.183594518996734e-07\n",
      "D 20 3.747633041816202e-07\n",
      "V 18 3.3728697376345817e-07\n",
      "T 17048295 0.31945376824314975\n",
      "B 8 1.4990532167264807e-07\n",
      "A 15870595 0.29738583107641503\n",
      "t 1 1.873816520908101e-08\n",
      "R 45 8.432174344086454e-07\n"
     ]
    }
   ],
   "source": [
    "#optional - some statistics for unaligned chinese sequences \n",
    "chinagenomes = readgenfile(\"/data/sars-cov-2/all.fasta\")\n",
    "longchgen = filtergensize(chinagenomes, \"greater\", 29000)\n",
    "print(\"filtered sequences (length>29000):\", len(longchgen))\n",
    "\n",
    "mean,variance = getgensampleparams(longchgen)\n",
    "print(\"Samples from China: mean sequence length: {}, variance: {}\".format(mean, variance))\n",
    "\n",
    "sequences = [ genome[\"sequence\"] for genome in longchgen]\n",
    "fullline = ''.join(sequences)\n",
    "bases = set(fullline)\n",
    "total = len(fullline)\n",
    "for character in bases:\n",
    "    count = fullline.count(character)\n",
    "    print (character, count, count/total)"
   ]
  },
  {
   "cell_type": "code",
   "execution_count": 3,
   "metadata": {
    "collapsed": false
   },
   "outputs": [
    {
     "name": "stdout",
     "output_type": "stream",
     "text": [
      "sequences from Russia in the tree:  150\n",
      "total sisterlist len =  13327\n",
      "total titles len =  13327\n",
      "total unique titles len =  1041\n",
      "total foreign titles len =  925\n"
     ]
    }
   ],
   "source": [
    "#this cell requires ete3 \n",
    "#fix tree file (remove color) and collect russian samples,\n",
    "#then find close relatives to collected rus sample list from other countries\n",
    "from ete3 import Tree\n",
    "from nexus import NexusReader\n",
    "\n",
    "treefile = \"/data/sars-cov-2/2020_04_27/sarscov2_20200427.fin.treefile.tre\"\n",
    "fixedtreefile = \"results/sarscov2_20200427.fin.treefile.tre.fix\"\n",
    "\n",
    "#1. removing color info which makes ete think there are additional nodes\n",
    "# (all commas separate nodes, it supposes)\n",
    "with open(treefile,'r') as f:\n",
    "    treefiletext=f.read()\n",
    "with open(fixedtreefile, 'w') as f:\n",
    "    f.write(treefiletext.replace(\"[&!color=#ff0000]\", '')\\\n",
    "            .replace(\",!color=#ff0000\", '')\\\n",
    "            .replace(\"[&!color=#0000ff]\", '')\\\n",
    "            .replace(\",!color=#0000ff\",''))\n",
    "\n",
    "#2. Collecting a list of leafs from Russia\n",
    "n = NexusReader.from_file(fixedtreefile)\n",
    "sarstree = n.trees.trees[0].newick_string\n",
    "t = Tree(sarstree,  format=1)\n",
    "\n",
    "russnodes = []\n",
    "for node in t.traverse(\"levelorder\"):\n",
    "    if \"Russ\" in node.name:\n",
    "        russnodes.append(node)\n",
    "print (\"sequences from Russia in the tree: \", len(russnodes))\n",
    "\n",
    "#3. Collecting all sisters of leafs from Russia and their ancestors\n",
    "sisterlist = []\n",
    "for idx, node in enumerate(russnodes[:]):\n",
    "    for sister in node.get_sisters():\n",
    "        sisterlist.append(sister)\n",
    "    for uppernode in node.iter_ancestors():        \n",
    "        for sister in uppernode.get_sisters():\n",
    "            sisterlist.append(sister)    \n",
    "print(\"total sisterlist len = \", len(sisterlist))\n",
    "\n",
    "#4. Collecting sisters' closest descendants\n",
    "titles = []\n",
    "for node in sisterlist:\n",
    "    if node.is_leaf():\n",
    "        titles.append(node.name)\n",
    "    else:\n",
    "        leaf, _ = node.get_closest_leaf()\n",
    "        titles.append(leaf.name)\n",
    "print(\"total titles len = \", len(titles))\n",
    "       \n",
    "uniqtitles = list(set(titles))\n",
    "print(\"total unique titles len = \", len(uniqtitles))\n",
    "foreign = [line[1:-1] for line in uniqtitles if not \"Rus\" in line]\n",
    "print(\"total foreign titles len = \", len(foreign))\n",
    "\n",
    "with open(\"results/closeforeignfilter.txt\",'w') as f:\n",
    "    f.write('\\n'.join(foreign))"
   ]
  },
  {
   "cell_type": "code",
   "execution_count": 8,
   "metadata": {
    "collapsed": false
   },
   "outputs": [
    {
     "name": "stdout",
     "output_type": "stream",
     "text": [
      "lines read:  11994\n",
      "sequences read:  5997\n",
      "lines read:  300\n",
      "sequences read:  150\n",
      "Not found!  Spain/Catalua201397/2020|EPI_ISL_419707\n",
      "sequences saved: 924\n",
      "sequences saved: 1074\n"
     ]
    }
   ],
   "source": [
    "#select close foreign sequences from all sequences and save to separate fasta \n",
    "genfilename = \"/data/sars-cov-2/2020_04_27/2020-05-11-gisaid_corrected_rus.fasta\"\n",
    "allgenomes = readgenfile(genfilename)\n",
    "rusgenomes = readgenfile(\"results/rus_sarscov2.fin.fas\")\n",
    "\n",
    "closeforeigngenomes = filtergenomesbyfile(allgenomes, \"results/closeforeignfilter.txt\")\n",
    "savegenfile(\"results/closeforeign.fin.fas\", closeforeigngenomes)\n",
    "savegenfile(\"results/rus_and_closeforeign.fin.fas\", closeforeigngenomes+rusgenomes)"
   ]
  },
  {
   "cell_type": "code",
   "execution_count": 10,
   "metadata": {
    "collapsed": false
   },
   "outputs": [
    {
     "name": "stdout",
     "output_type": "stream",
     "text": [
      "lines read:  2148\n",
      "sequences read:  1074\n",
      "wrong date line in gisaid file! /data/sars-cov-2/gisaid_text/EPI_ISL_419693.txt     \n",
      "wrong date line in gisaid file! /data/sars-cov-2/gisaid_text/EPI_ISL_415523.txt     \n",
      "wrong date line in gisaid file! /data/sars-cov-2/gisaid_text/EPI_ISL_420556.txt     \n",
      "wrong date line in gisaid file! /data/sars-cov-2/gisaid_text/EPI_ISL_420546.txt     \n",
      "wrong date line in gisaid file! /data/sars-cov-2/gisaid_text/EPI_ISL_416742.txt     \n",
      "wrong date line in gisaid file! /data/sars-cov-2/gisaid_text/EPI_ISL_424542.txt     \n",
      "wrong date line in gisaid file! /data/sars-cov-2/gisaid_text/EPI_ISL_424983.txt     \n",
      "wrong date line in gisaid file! /data/sars-cov-2/gisaid_text/EPI_ISL_420305.txt     \n",
      "sequences saved: 1066\n"
     ]
    }
   ],
   "source": [
    "#find dates from gisaid data\n",
    "import re\n",
    "import os.path\n",
    "DATE_REGEX = re.compile(\"^20[0-9][0-9]-[0-9][0-9]-[0-9][0-9]$\")\n",
    "DATELINE_REGEX = re.compile(\"Collection date: (?P<date>20[0-9][0-9]-[0-9][0-9]-[0-9][0-9])$\")\n",
    "\n",
    "genfilename = \"results/rus_and_closeforeign.fin.fas\"\n",
    "outgenfilename = \"results/rus_and_closeforeign_wdates.fin.fas\"\n",
    "gisaidfolder = \"/data/sars-cov-2/gisaid_text\"\n",
    "allgenomes = readgenfile(genfilename)\n",
    "\n",
    "seqtoremove=[]\n",
    "\n",
    "for genome in allgenomes:\n",
    "    header = genome['header']\n",
    "    headparts = header.split('|')\n",
    "    if len(headparts) == 3:\n",
    "        #check that the last is date\n",
    "        match = DATE_REGEX.match(headparts[2])\n",
    "        if not match:\n",
    "            print('encountered 3rd field with wrong date format!')\n",
    "    elif len(headparts) >3:\n",
    "        #not sure what it could be\n",
    "        print('encountered 4 or more fields in meta!')\n",
    "    elif len(headparts) == 2:\n",
    "        #add date\n",
    "        epicode = headparts[1]\n",
    "        fname = os.path.join(gisaidfolder, epicode+\".txt\")\n",
    "        with open(fname, 'r') as f:\n",
    "            for fline in f:\n",
    "                match = DATELINE_REGEX.match(fline)\n",
    "                if match:\n",
    "                    break\n",
    "            if match:\n",
    "                datestr = match.groupdict()['date']\n",
    "                genome['header'] = header + '|'+ datestr\n",
    "            else:                \n",
    "                print('wrong date line in gisaid file!', fname, fline)\n",
    "                seqtoremove.append(header)\n",
    "    else:\n",
    "        print('encountered 0 or 1 fields in meta!')\n",
    "        \n",
    "goodgenomes = [genome for genome in allgenomes if not(genome['header'] in seqtoremove)]\n",
    "        \n",
    "savegenfile(outgenfilename, goodgenomes)"
   ]
  },
  {
   "cell_type": "code",
   "execution_count": 12,
   "metadata": {
    "collapsed": false
   },
   "outputs": [
    {
     "name": "stdout",
     "output_type": "stream",
     "text": [
      "lines read:  2132\n",
      "sequences read:  1066\n"
     ]
    }
   ],
   "source": [
    "#create simple localization\n",
    "genfilename = \"results/rus_and_closeforeign_wdates.fin.fas\"\n",
    "allgenomes = readgenfile(genfilename)\n",
    "\n",
    "outtext=''\n",
    "for genome in allgenomes:\n",
    "    header = genome['header']\n",
    "    if 'Russ' in header:\n",
    "        loc = \"RUS\"\n",
    "    else:\n",
    "        loc = \"WORLD\"\n",
    "    outtext += header + '\\t' + loc+'\\n' \n",
    "    \n",
    "with open('results/rus_and_closeforeign_wdates.loc.txt','w') as f:\n",
    "    f.write(outtext)\n"
   ]
  },
  {
   "cell_type": "code",
   "execution_count": 3,
   "metadata": {
    "collapsed": false
   },
   "outputs": [
    {
     "name": "stdout",
     "output_type": "stream",
     "text": [
      "lines read:  1848\n",
      "sequences read:  924\n",
      "lines read:  2148\n",
      "sequences read:  1074\n",
      "hCoV-19/Russia/Moscow-77610/2020|EPI_ISL_428887|2020-03-22 from results/rus_and_closeforeign.fin.fas does not exist in results/closeforeign.fin.fas\n",
      "hCoV-19/Russia/Omsk-89001/2020|EPI_ISL_428878|2020-04-01 from results/rus_and_closeforeign.fin.fas does not exist in results/closeforeign.fin.fas\n",
      "hCoV-19/Russia/Primorskiy-79001/2020|EPI_ISL_428903|2020-03-22 from results/rus_and_closeforeign.fin.fas does not exist in results/closeforeign.fin.fas\n",
      "hCoV-19/Russia/StPetersburg-RII5942S/2020|EPI_ISL_430099|2020-04-13 from results/rus_and_closeforeign.fin.fas does not exist in results/closeforeign.fin.fas\n",
      "hCoV-19/Russia/StPetersburg-RII4696S/2020|EPI_ISL_427327|2020-04-07 from results/rus_and_closeforeign.fin.fas does not exist in results/closeforeign.fin.fas\n",
      "hCoV-19/Russia/StPetersburg-RII6086S/2020|EPI_ISL_430111|2020-04-15 from results/rus_and_closeforeign.fin.fas does not exist in results/closeforeign.fin.fas\n",
      "hCoV-19/Russia/StPetersburg-RII6061S/2020|EPI_ISL_430108|2020-04-15 from results/rus_and_closeforeign.fin.fas does not exist in results/closeforeign.fin.fas\n",
      "hCoV-19/Russia/Buryatia-84506/2020|EPI_ISL_428894|2020-03-27 from results/rus_and_closeforeign.fin.fas does not exist in results/closeforeign.fin.fas\n",
      "hCoV-19/Russia/StPetersburg-RII4546V/2020|EPI_ISL_427314|2020-04-02 from results/rus_and_closeforeign.fin.fas does not exist in results/closeforeign.fin.fas\n",
      "hCoV-19/Russia/StPetersburg-RII4724S/2020|EPI_ISL_427333|2020-04-07 from results/rus_and_closeforeign.fin.fas does not exist in results/closeforeign.fin.fas\n",
      "hCoV-19/Russia/Yakutia-73709/2020|EPI_ISL_428874|2020-03-20 from results/rus_and_closeforeign.fin.fas does not exist in results/closeforeign.fin.fas\n",
      "hCoV-19/Russia/StPetersburg-RII5635S/2020|EPI_ISL_430094|2020-04-14 from results/rus_and_closeforeign.fin.fas does not exist in results/closeforeign.fin.fas\n",
      "hCoV-19/Russia/StPetersburg-RII4988S/2020|EPI_ISL_430083|2020-04-10 from results/rus_and_closeforeign.fin.fas does not exist in results/closeforeign.fin.fas\n",
      "hCoV-19/Russia/StPetersburg-RII4944S/2020|EPI_ISL_430074|2020-04-08 from results/rus_and_closeforeign.fin.fas does not exist in results/closeforeign.fin.fas\n",
      "hCoV-19/Russia/StPetersburg-RII4597S/2020|EPI_ISL_427319|2020-04-04 from results/rus_and_closeforeign.fin.fas does not exist in results/closeforeign.fin.fas\n",
      "hCoV-19/Russia/StPetersburg-RII4712V/2020|EPI_ISL_430068|2020-04-07 from results/rus_and_closeforeign.fin.fas does not exist in results/closeforeign.fin.fas\n",
      "hCoV-19/Russia/StPetersburg-RII6063S/2020|EPI_ISL_430109|2020-04-15 from results/rus_and_closeforeign.fin.fas does not exist in results/closeforeign.fin.fas\n",
      "hCoV-19/Russia/StPetersburg-RII6053S/2020|EPI_ISL_430104|2020-04-15 from results/rus_and_closeforeign.fin.fas does not exist in results/closeforeign.fin.fas\n",
      "hCoV-19/Russia/Lipetsk-62707/2020|EPI_ISL_428866|2020-03-11 from results/rus_and_closeforeign.fin.fas does not exist in results/closeforeign.fin.fas\n",
      "hCoV-19/Russia/Sakha-84801/2020|EPI_ISL_428896|2020-03-27 from results/rus_and_closeforeign.fin.fas does not exist in results/closeforeign.fin.fas\n",
      "hCoV-19/Russia/StPetersburg-3524/2020|EPI_ISL_415710|2020-03-15 from results/rus_and_closeforeign.fin.fas does not exist in results/closeforeign.fin.fas\n",
      "hCoV-19/Russia/Moscow-67117/2020|EPI_ISL_428875|2020-03-16 from results/rus_and_closeforeign.fin.fas does not exist in results/closeforeign.fin.fas\n",
      "hCoV-19/Russia/Khabarovsk-71403/2020|EPI_ISL_428880|2020-03-19 from results/rus_and_closeforeign.fin.fas does not exist in results/closeforeign.fin.fas\n",
      "hCoV-19/Russia/StPetersburg-RII4326S/2020|EPI_ISL_427337|2020-03-25 from results/rus_and_closeforeign.fin.fas does not exist in results/closeforeign.fin.fas\n",
      "hCoV-19/Russia/Sakhalin-84401/2020|EPI_ISL_428912|2020-03-27 from results/rus_and_closeforeign.fin.fas does not exist in results/closeforeign.fin.fas\n",
      "hCoV-19/Russia/Novosibirsk-84101/2020|EPI_ISL_428918|2020-03-27 from results/rus_and_closeforeign.fin.fas does not exist in results/closeforeign.fin.fas\n",
      "hCoV-19/Russia/Buryatia-87105/2020|EPI_ISL_428920|2020-03-30 from results/rus_and_closeforeign.fin.fas does not exist in results/closeforeign.fin.fas\n",
      "hCoV-19/Russia/StPetersburg-RII5047S/2020|EPI_ISL_430087|2020-04-10 from results/rus_and_closeforeign.fin.fas does not exist in results/closeforeign.fin.fas\n",
      "hCoV-19/Russia/StPetersburg-RII5169S/2020|EPI_ISL_430088|2020-04-09 from results/rus_and_closeforeign.fin.fas does not exist in results/closeforeign.fin.fas\n",
      "hCoV-19/Russia/Khabarovsk-88201/2020|EPI_ISL_428910|2020-03-31 from results/rus_and_closeforeign.fin.fas does not exist in results/closeforeign.fin.fas\n",
      "hCoV-19/Russia/StPetersburg-RII3992/2020|EPI_ISL_420080|2020-03-18 from results/rus_and_closeforeign.fin.fas does not exist in results/closeforeign.fin.fas\n",
      "hCoV-19/Russia/StPetersburg-RII4980S/2020|EPI_ISL_430079|2020-04-10 from results/rus_and_closeforeign.fin.fas does not exist in results/closeforeign.fin.fas\n",
      "hCoV-19/Russia/StPetersburg-64304/2020|EPI_ISL_428868|2020-03-13 from results/rus_and_closeforeign.fin.fas does not exist in results/closeforeign.fin.fas\n",
      "hCoV-19/Russia/StPetersburg-RII4697S/2020|EPI_ISL_427328|2020-04-07 from results/rus_and_closeforeign.fin.fas does not exist in results/closeforeign.fin.fas\n",
      "hCoV-19/Russia/Samara-73403/2020|EPI_ISL_428886|2020-03-20 from results/rus_and_closeforeign.fin.fas does not exist in results/closeforeign.fin.fas\n",
      "hCoV-19/Russia/StPetersburg-RII5644S/2020|EPI_ISL_430097|2020-04-14 from results/rus_and_closeforeign.fin.fas does not exist in results/closeforeign.fin.fas\n",
      "hCoV-19/Russia/StPetersburg-RII6043S/2020|EPI_ISL_430103|2020-04-14 from results/rus_and_closeforeign.fin.fas does not exist in results/closeforeign.fin.fas\n",
      "hCoV-19/Russia/StPetersburg-RII4637S/2020|EPI_ISL_427320|2020-04-05 from results/rus_and_closeforeign.fin.fas does not exist in results/closeforeign.fin.fas\n",
      "hCoV-19/Russia/StPetersburg-RII5247S/2020|EPI_ISL_430091|2020-04-10 from results/rus_and_closeforeign.fin.fas does not exist in results/closeforeign.fin.fas\n",
      "hCoV-19/Russia/StPetersburg-RII4686S/2020|EPI_ISL_427324|2020-04-07 from results/rus_and_closeforeign.fin.fas does not exist in results/closeforeign.fin.fas\n",
      "hCoV-19/Russia/StPetersburg-RII4781S/2020|EPI_ISL_427336|2020-04-07 from results/rus_and_closeforeign.fin.fas does not exist in results/closeforeign.fin.fas\n",
      "hCoV-19/Russia/StPetersburg-RII4585S/2020|EPI_ISL_427317|2020-04-03 from results/rus_and_closeforeign.fin.fas does not exist in results/closeforeign.fin.fas\n",
      "hCoV-19/Russia/StPetersburg-RII4705S/2020|EPI_ISL_430067|2020-04-07 from results/rus_and_closeforeign.fin.fas does not exist in results/closeforeign.fin.fas\n",
      "hCoV-19/Russia/Krasnodar-80902/2020|EPI_ISL_428892|2020-03-23 from results/rus_and_closeforeign.fin.fas does not exist in results/closeforeign.fin.fas\n",
      "hCoV-19/Russia/StPetersburg-RII4693S/2020|EPI_ISL_427325|2020-04-07 from results/rus_and_closeforeign.fin.fas does not exist in results/closeforeign.fin.fas\n",
      "hCoV-19/Russia/StPetersburg-RII5029S/2020|EPI_ISL_430085|2020-04-10 from results/rus_and_closeforeign.fin.fas does not exist in results/closeforeign.fin.fas\n",
      "hCoV-19/Russia/Pskov-83602/2020|EPI_ISL_428908|2020-03-25 from results/rus_and_closeforeign.fin.fas does not exist in results/closeforeign.fin.fas\n",
      "hCoV-19/Russia/StPetersburg-RII4386V/2020|EPI_ISL_427312|2020-03-29 from results/rus_and_closeforeign.fin.fas does not exist in results/closeforeign.fin.fas\n",
      "hCoV-19/Russia/StPetersburg-RII3997/2020|EPI_ISL_420081|2020-03-18 from results/rus_and_closeforeign.fin.fas does not exist in results/closeforeign.fin.fas\n",
      "hCoV-19/Russia/Orenburg-80305/2020|EPI_ISL_428902|2020-03-23 from results/rus_and_closeforeign.fin.fas does not exist in results/closeforeign.fin.fas\n",
      "hCoV-19/Russia/StPetersburg-RII4328S/2020|EPI_ISL_427338|2020-03-25 from results/rus_and_closeforeign.fin.fas does not exist in results/closeforeign.fin.fas\n",
      "hCoV-19/Russia/Moscow-62502/2020|EPI_ISL_428864|2020-03-11 from results/rus_and_closeforeign.fin.fas does not exist in results/closeforeign.fin.fas\n",
      "hCoV-19/Russia/Moscow-62501/2020|EPI_ISL_428861|2020-03-11 from results/rus_and_closeforeign.fin.fas does not exist in results/closeforeign.fin.fas\n",
      "hCoV-19/Russia/StPetersburg-RII4937S/2020|EPI_ISL_430072|2020-04-08 from results/rus_and_closeforeign.fin.fas does not exist in results/closeforeign.fin.fas\n",
      "hCoV-19/Russia/Crymea-80603/2020|EPI_ISL_428901|2020-03-23 from results/rus_and_closeforeign.fin.fas does not exist in results/closeforeign.fin.fas\n",
      "hCoV-19/Russia/StPetersburg-RII4144S/2020|EPI_ISL_427307|2020-03-20 from results/rus_and_closeforeign.fin.fas does not exist in results/closeforeign.fin.fas\n",
      "hCoV-19/Russia/Yakutia-83301/2020|EPI_ISL_428891|2020-03-25 from results/rus_and_closeforeign.fin.fas does not exist in results/closeforeign.fin.fas\n",
      "hCoV-19/Russia/Moscow-67609/2020|EPI_ISL_428882|2020-03-16 from results/rus_and_closeforeign.fin.fas does not exist in results/closeforeign.fin.fas\n",
      "hCoV-19/Russia/StPetersburg-RII4382V/2020|EPI_ISL_427310|2020-03-29 from results/rus_and_closeforeign.fin.fas does not exist in results/closeforeign.fin.fas\n",
      "hCoV-19/Russia/Samara-73406/2020|EPI_ISL_428885|2020-03-20 from results/rus_and_closeforeign.fin.fas does not exist in results/closeforeign.fin.fas\n",
      "hCoV-19/Russia/Sverdlovsk-86704/2020|EPI_ISL_428922|2020-03-30 from results/rus_and_closeforeign.fin.fas does not exist in results/closeforeign.fin.fas\n",
      "hCoV-19/Russia/StPetersburg-RII4706S/2020|EPI_ISL_427815|2020-04-07 from results/rus_and_closeforeign.fin.fas does not exist in results/closeforeign.fin.fas\n",
      "hCoV-19/Russia/Buryatia-84504/2020|EPI_ISL_428906|2020-03-27 from results/rus_and_closeforeign.fin.fas does not exist in results/closeforeign.fin.fas\n",
      "hCoV-19/Russia/Chechenya-83803/2020|EPI_ISL_428916|2020-03-26 from results/rus_and_closeforeign.fin.fas does not exist in results/closeforeign.fin.fas\n",
      "hCoV-19/Russia/StPetersburg-RII6031S/2020|EPI_ISL_430101|2020-04-14 from results/rus_and_closeforeign.fin.fas does not exist in results/closeforeign.fin.fas\n",
      "hCoV-19/Russia/StPetersburg-RII4713S/2020|EPI_ISL_427331|2020-04-07 from results/rus_and_closeforeign.fin.fas does not exist in results/closeforeign.fin.fas\n",
      "hCoV-19/Russia/StPetersburg-RII4780S/2020|EPI_ISL_430069|2020-04-07 from results/rus_and_closeforeign.fin.fas does not exist in results/closeforeign.fin.fas\n",
      "hCoV-19/Russia/Moscow-80402/2020|EPI_ISL_428905|2020-03-23 from results/rus_and_closeforeign.fin.fas does not exist in results/closeforeign.fin.fas\n",
      "hCoV-19/Russia/Buryatia-86204/2020|EPI_ISL_428899|2020-03-29 from results/rus_and_closeforeign.fin.fas does not exist in results/closeforeign.fin.fas\n",
      "hCoV-19/Russia/StPetersburg-RII4532V/2020|EPI_ISL_427313|2020-04-03 from results/rus_and_closeforeign.fin.fas does not exist in results/closeforeign.fin.fas\n",
      "hCoV-19/Russia/StPetersburg-RII5642S/2020|EPI_ISL_430095|2020-04-14 from results/rus_and_closeforeign.fin.fas does not exist in results/closeforeign.fin.fas\n",
      "hCoV-19/Russia/StPetersburg-RII5654S/2020|EPI_ISL_430098|2020-04-14 from results/rus_and_closeforeign.fin.fas does not exist in results/closeforeign.fin.fas\n",
      "hCoV-19/Russia/Sverdlovsk-71903/2020|EPI_ISL_428890|2020-03-19 from results/rus_and_closeforeign.fin.fas does not exist in results/closeforeign.fin.fas\n",
      "hCoV-19/Russia/Yakutia-73703/2020|EPI_ISL_428888|2020-03-20 from results/rus_and_closeforeign.fin.fas does not exist in results/closeforeign.fin.fas\n",
      "hCoV-19/Russia/Buryatia-87106/2020|EPI_ISL_428919|2020-03-30 from results/rus_and_closeforeign.fin.fas does not exist in results/closeforeign.fin.fas\n",
      "hCoV-19/Russia/Moscow-77620/2020|EPI_ISL_428889|2020-03-22 from results/rus_and_closeforeign.fin.fas does not exist in results/closeforeign.fin.fas\n",
      "hCoV-19/Russia/Buryatia-87104/2020|EPI_ISL_428914|2020-03-30 from results/rus_and_closeforeign.fin.fas does not exist in results/closeforeign.fin.fas\n",
      "hCoV-19/Russia/Sverdlovsk-71904/2020|EPI_ISL_428873|2020-03-19 from results/rus_and_closeforeign.fin.fas does not exist in results/closeforeign.fin.fas\n",
      "hCoV-19/Russia/Sakha-89702/2020|EPI_ISL_428907|2020-04-01 from results/rus_and_closeforeign.fin.fas does not exist in results/closeforeign.fin.fas\n",
      "hCoV-19/Russia/StPetersburg-RII6060S/2020|EPI_ISL_430107|2020-04-15 from results/rus_and_closeforeign.fin.fas does not exist in results/closeforeign.fin.fas\n",
      "hCoV-19/Russia/StPetersburg-RII4591S/2020|EPI_ISL_427318|2020-04-03 from results/rus_and_closeforeign.fin.fas does not exist in results/closeforeign.fin.fas\n",
      "hCoV-19/Russia/StPetersburg-RII4707S/2020|EPI_ISL_427329|2020-04-07 from results/rus_and_closeforeign.fin.fas does not exist in results/closeforeign.fin.fas\n",
      "hCoV-19/Russia/Moscow-62506/2020|EPI_ISL_428862|2020-03-11 from results/rus_and_closeforeign.fin.fas does not exist in results/closeforeign.fin.fas\n",
      "hCoV-19/Russia/StPetersburg-RII4985S/2020|EPI_ISL_430082|2020-04-10 from results/rus_and_closeforeign.fin.fas does not exist in results/closeforeign.fin.fas\n",
      "hCoV-19/Russia/StPetersburg-RII4655S/2020|EPI_ISL_427322|2020-04-05 from results/rus_and_closeforeign.fin.fas does not exist in results/closeforeign.fin.fas\n",
      "hCoV-19/Russia/Sverdlovsk-71905/2020|EPI_ISL_428879|2020-03-19 from results/rus_and_closeforeign.fin.fas does not exist in results/closeforeign.fin.fas\n",
      "hCoV-19/Russia/Moscow-62508/2020|EPI_ISL_428863|2020-03-11 from results/rus_and_closeforeign.fin.fas does not exist in results/closeforeign.fin.fas\n",
      "hCoV-19/Russia/Moscow-77627/2020|EPI_ISL_428884|2020-03-22 from results/rus_and_closeforeign.fin.fas does not exist in results/closeforeign.fin.fas\n",
      "hCoV-19/Russia/StPetersburg-RII4728S/2020|EPI_ISL_427335|2020-04-07 from results/rus_and_closeforeign.fin.fas does not exist in results/closeforeign.fin.fas\n",
      "hCoV-19/Russia/StPetersburg-RII5244S/2020|EPI_ISL_430090|2020-04-10 from results/rus_and_closeforeign.fin.fas does not exist in results/closeforeign.fin.fas\n",
      "hCoV-19/Russia/Moscow-71602/2020|EPI_ISL_428877|2020-03-19 from results/rus_and_closeforeign.fin.fas does not exist in results/closeforeign.fin.fas\n",
      "hCoV-19/Russia/Moscow-71604/2020|EPI_ISL_428876|2020-03-19 from results/rus_and_closeforeign.fin.fas does not exist in results/closeforeign.fin.fas\n",
      "hCoV-19/Russia/StPetersburg-RII4917S/2020|EPI_ISL_430070|2020-04-07 from results/rus_and_closeforeign.fin.fas does not exist in results/closeforeign.fin.fas\n",
      "hCoV-19/Russia/StPetersburg-RII4723S/2020|EPI_ISL_427332|2020-04-07 from results/rus_and_closeforeign.fin.fas does not exist in results/closeforeign.fin.fas\n",
      "hCoV-19/Russia/Moscow_64405/2020|EPI_ISL_428869|2020-03-13 from results/rus_and_closeforeign.fin.fas does not exist in results/closeforeign.fin.fas\n",
      "hCoV-19/Russia/Lipetsk-62704/2020|EPI_ISL_428865|2020-03-11 from results/rus_and_closeforeign.fin.fas does not exist in results/closeforeign.fin.fas\n",
      "hCoV-19/Russia/StPetersburg-82005/2020|EPI_ISL_428897|2020-03-24 from results/rus_and_closeforeign.fin.fas does not exist in results/closeforeign.fin.fas\n",
      "hCoV-19/Russia/Sverdlovsk-82904/2020|EPI_ISL_428915|2020-03-25 from results/rus_and_closeforeign.fin.fas does not exist in results/closeforeign.fin.fas\n",
      "hCoV-19/Russia/Buryatia-88903/2020|EPI_ISL_428911|2020-04-01 from results/rus_and_closeforeign.fin.fas does not exist in results/closeforeign.fin.fas\n",
      "hCoV-19/Russia/Tatarstan-82208/2020|EPI_ISL_428917|2020-03-24 from results/rus_and_closeforeign.fin.fas does not exist in results/closeforeign.fin.fas\n",
      "hCoV-19/Russia/Moscow-77628/2020|EPI_ISL_428904|2020-03-22 from results/rus_and_closeforeign.fin.fas does not exist in results/closeforeign.fin.fas\n",
      "hCoV-19/Russia/Moscow-25I/2020|EPI_ISL_428851|2020-04-02 from results/rus_and_closeforeign.fin.fas does not exist in results/closeforeign.fin.fas\n",
      "hCoV-19/Russia/StPetersburg-RII4711S/2020|EPI_ISL_427330|2020-04-07 from results/rus_and_closeforeign.fin.fas does not exist in results/closeforeign.fin.fas\n",
      "hCoV-19/Russia/StPetersburg-RII6055S/2020|EPI_ISL_430105|2020-04-15 from results/rus_and_closeforeign.fin.fas does not exist in results/closeforeign.fin.fas\n",
      "hCoV-19/Russia/Moscow-62505/2020|EPI_ISL_428860|2020-03-11 from results/rus_and_closeforeign.fin.fas does not exist in results/closeforeign.fin.fas\n",
      "hCoV-19/Russia/Moscow-35I/2020|EPI_ISL_428852|2020-04-02 from results/rus_and_closeforeign.fin.fas does not exist in results/closeforeign.fin.fas\n",
      "hCoV-19/Russia/StPetersburg-RII4936S/2020|EPI_ISL_430071|2020-04-08 from results/rus_and_closeforeign.fin.fas does not exist in results/closeforeign.fin.fas\n",
      "hCoV-19/Russia/StPetersburg-RII4678S/2020|EPI_ISL_427323|2020-04-06 from results/rus_and_closeforeign.fin.fas does not exist in results/closeforeign.fin.fas\n",
      "hCoV-19/Russia/Moscow-67142/2020|EPI_ISL_428881|2020-03-16 from results/rus_and_closeforeign.fin.fas does not exist in results/closeforeign.fin.fas\n",
      "hCoV-19/Russia/StPetersburg-RII4983S/2020|EPI_ISL_430080|2020-04-10 from results/rus_and_closeforeign.fin.fas does not exist in results/closeforeign.fin.fas\n",
      "hCoV-19/Russia/Krasnodar-63401/2020|EPI_ISL_428867|2020-03-11 from results/rus_and_closeforeign.fin.fas does not exist in results/closeforeign.fin.fas\n",
      "hCoV-19/Russia/Chechenya-83801/2020|EPI_ISL_428909|2020-03-26 from results/rus_and_closeforeign.fin.fas does not exist in results/closeforeign.fin.fas\n",
      "hCoV-19/Russia/Ulan-Ude-RII4562V/2020|EPI_ISL_430112|2020-03-25 from results/rus_and_closeforeign.fin.fas does not exist in results/closeforeign.fin.fas\n",
      "hCoV-19/Russia/StPetersburg-RII5634S/2020|EPI_ISL_430093|2020-04-14 from results/rus_and_closeforeign.fin.fas does not exist in results/closeforeign.fin.fas\n",
      "hCoV-19/Russia/Kabardino-Balkaria-80503/2020|EPI_ISL_428898|2020-03-23 from results/rus_and_closeforeign.fin.fas does not exist in results/closeforeign.fin.fas\n",
      "hCoV-19/Russia/StPetersburg-RII5033S/2020|EPI_ISL_430086|2020-04-10 from results/rus_and_closeforeign.fin.fas does not exist in results/closeforeign.fin.fas\n",
      "hCoV-19/Russia/StPetersburg-73603/2020|EPI_ISL_428883|2020-03-20 from results/rus_and_closeforeign.fin.fas does not exist in results/closeforeign.fin.fas\n",
      "hCoV-19/Russia/Buryatia-84508/2020|EPI_ISL_428913|2020-03-27 from results/rus_and_closeforeign.fin.fas does not exist in results/closeforeign.fin.fas\n",
      "hCoV-19/Russia/StPetersburg-RII4307V/2020|EPI_ISL_427308|2020-03-24 from results/rus_and_closeforeign.fin.fas does not exist in results/closeforeign.fin.fas\n",
      "hCoV-19/Russia/StPetersburg-RII4584S/2020|EPI_ISL_427316|2020-04-03 from results/rus_and_closeforeign.fin.fas does not exist in results/closeforeign.fin.fas\n",
      "hCoV-19/Russia/StPetersburg-RII5643S/2020|EPI_ISL_430096|2020-04-14 from results/rus_and_closeforeign.fin.fas does not exist in results/closeforeign.fin.fas\n",
      "hCoV-19/Russia/StPetersburg-RII4938S/2020|EPI_ISL_430073|2020-04-08 from results/rus_and_closeforeign.fin.fas does not exist in results/closeforeign.fin.fas\n",
      "hCoV-19/Russia/StPetersburg-RII6027S/2020|EPI_ISL_430100|2020-04-14 from results/rus_and_closeforeign.fin.fas does not exist in results/closeforeign.fin.fas\n",
      "hCoV-19/Russia/StPetersburg-RII5633S/2020|EPI_ISL_430092|2020-04-14 from results/rus_and_closeforeign.fin.fas does not exist in results/closeforeign.fin.fas\n",
      "hCoV-19/Russia/StPetersburg-RII4384V/2020|EPI_ISL_427311|2020-03-29 from results/rus_and_closeforeign.fin.fas does not exist in results/closeforeign.fin.fas\n",
      "hCoV-19/Russia/Perm-82707/2020|EPI_ISL_428895|2020-03-24 from results/rus_and_closeforeign.fin.fas does not exist in results/closeforeign.fin.fas\n",
      "hCoV-19/Russia/StPetersburg-RII4984S/2020|EPI_ISL_430081|2020-04-10 from results/rus_and_closeforeign.fin.fas does not exist in results/closeforeign.fin.fas\n",
      "hCoV-19/Russia/Chelyabinsk-85311/2020|EPI_ISL_428924|2020-03-28 from results/rus_and_closeforeign.fin.fas does not exist in results/closeforeign.fin.fas\n",
      "hCoV-19/Russia/Sverdlovsk-84302/2020|EPI_ISL_428923|2020-03-27 from results/rus_and_closeforeign.fin.fas does not exist in results/closeforeign.fin.fas\n",
      "hCoV-19/Russia/StPetersburg-RII6039S/2020|EPI_ISL_430102|2020-04-14 from results/rus_and_closeforeign.fin.fas does not exist in results/closeforeign.fin.fas\n",
      "hCoV-19/Russia/Kabardino-Balkaria-80501/2020|EPI_ISL_428893|2020-03-23 from results/rus_and_closeforeign.fin.fas does not exist in results/closeforeign.fin.fas\n",
      "hCoV-19/Russia/Moscow-64601/2020|EPI_ISL_428870|2020-03-13 from results/rus_and_closeforeign.fin.fas does not exist in results/closeforeign.fin.fas\n",
      "hCoV-19/Russia/StPetersburg-RII4332S/2020|EPI_ISL_427339|2020-03-25 from results/rus_and_closeforeign.fin.fas does not exist in results/closeforeign.fin.fas\n",
      "hCoV-19/Russia/Tver-72601/2020|EPI_ISL_428921|2020-03-19 from results/rus_and_closeforeign.fin.fas does not exist in results/closeforeign.fin.fas\n",
      "hCoV-19/Russia/StPetersburg-RII5170S/2020|EPI_ISL_430089|2020-04-09 from results/rus_and_closeforeign.fin.fas does not exist in results/closeforeign.fin.fas\n",
      "hCoV-19/Russia/StPetersburg-RII6056S/2020|EPI_ISL_430106|2020-04-15 from results/rus_and_closeforeign.fin.fas does not exist in results/closeforeign.fin.fas\n",
      "hCoV-19/Russia/StPetersburg-RII4649S/2020|EPI_ISL_427321|2020-04-05 from results/rus_and_closeforeign.fin.fas does not exist in results/closeforeign.fin.fas\n",
      "hCoV-19/Russia/StPetersburg-RII6065S/2020|EPI_ISL_430110|2020-04-15 from results/rus_and_closeforeign.fin.fas does not exist in results/closeforeign.fin.fas\n",
      "hCoV-19/Russia/StPetersburg-RII4949S/2020|EPI_ISL_430075|2020-04-09 from results/rus_and_closeforeign.fin.fas does not exist in results/closeforeign.fin.fas\n",
      "hCoV-19/Russia/Moscow-71605/2020|EPI_ISL_428872|2020-03-19 from results/rus_and_closeforeign.fin.fas does not exist in results/closeforeign.fin.fas\n",
      "hCoV-19/Russia/Moscow-80112/2020|EPI_ISL_428900|2020-03-23 from results/rus_and_closeforeign.fin.fas does not exist in results/closeforeign.fin.fas\n",
      "hCoV-19/Russia/StPetersburg-RII4970S/2020|EPI_ISL_430077|2020-04-10 from results/rus_and_closeforeign.fin.fas does not exist in results/closeforeign.fin.fas\n",
      "hCoV-19/Russia/Moscow_PMVL-1/2020|EPI_ISL_421275|2020-03-18 from results/rus_and_closeforeign.fin.fas does not exist in results/closeforeign.fin.fas\n",
      "hCoV-19/Russia/StPetersburg-RII4726S/2020|EPI_ISL_427334|2020-04-07 from results/rus_and_closeforeign.fin.fas does not exist in results/closeforeign.fin.fas\n",
      "hCoV-19/Russia/StPetersburg-RII5017V/2020|EPI_ISL_430084|2020-04-09 from results/rus_and_closeforeign.fin.fas does not exist in results/closeforeign.fin.fas\n",
      "hCoV-19/Russia/StPetersburg-RII4308V/2020|EPI_ISL_427309|2020-03-24 from results/rus_and_closeforeign.fin.fas does not exist in results/closeforeign.fin.fas\n",
      "hCoV-19/Russia/StPetersburg-RII4972S/2020|EPI_ISL_430078|2020-04-10 from results/rus_and_closeforeign.fin.fas does not exist in results/closeforeign.fin.fas\n",
      "hCoV-19/Russia/Krasnoyarsk-66501/2020|EPI_ISL_428871|2020-03-13 from results/rus_and_closeforeign.fin.fas does not exist in results/closeforeign.fin.fas\n",
      "hCoV-19/Russia/StPetersburg-RII4969S/2020|EPI_ISL_430076|2020-04-10 from results/rus_and_closeforeign.fin.fas does not exist in results/closeforeign.fin.fas\n",
      "hCoV-19/Russia/StPetersburg-RII4694S/2020|EPI_ISL_427326|2020-04-07 from results/rus_and_closeforeign.fin.fas does not exist in results/closeforeign.fin.fas\n",
      "diff finished!\n"
     ]
    }
   ],
   "source": [
    "from genutils import diffheaders\n",
    "diffheaders(\"results/closeforeign.fin.fas\", \"results/rus_and_closeforeign.fin.fas\" )"
   ]
  },
  {
   "cell_type": "code",
   "execution_count": null,
   "metadata": {
    "collapsed": true
   },
   "outputs": [],
   "source": []
  }
 ],
 "metadata": {
  "kernelspec": {
   "display_name": "Python 3",
   "language": "python",
   "name": "python3"
  },
  "language_info": {
   "codemirror_mode": {
    "name": "ipython",
    "version": 3
   },
   "file_extension": ".py",
   "mimetype": "text/x-python",
   "name": "python",
   "nbconvert_exporter": "python",
   "pygments_lexer": "ipython3",
   "version": "3.6.0"
  }
 },
 "nbformat": 4,
 "nbformat_minor": 4
}
