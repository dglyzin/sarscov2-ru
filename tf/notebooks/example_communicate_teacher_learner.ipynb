{
 "cells": [
  {
   "cell_type": "code",
   "execution_count": 1,
   "metadata": {
    "collapsed": true
   },
   "outputs": [],
   "source": [
    "import torch\n",
    "import pyro\n",
    "import pyro.distributions as dist"
   ]
  },
  {
   "cell_type": "code",
   "execution_count": 2,
   "metadata": {
    "collapsed": true
   },
   "outputs": [],
   "source": [
    "import matplotlib.pyplot as plt"
   ]
  },
  {
   "cell_type": "markdown",
   "metadata": {},
   "source": [
    "### Examples"
   ]
  },
  {
   "cell_type": "markdown",
   "metadata": {},
   "source": [
    "##### Teacher/Learner (recursive hierarchical model):\n",
    "Original: <br>\n",
    "[1] http://v1.probmods.org/inference-about-inference.html#communication-and-language"
   ]
  },
  {
   "cell_type": "markdown",
   "metadata": {},
   "source": [
    "##### Implementation"
   ]
  },
  {
   "cell_type": "markdown",
   "metadata": {},
   "source": [
    "Priors:"
   ]
  },
  {
   "cell_type": "code",
   "execution_count": 59,
   "metadata": {
    "collapsed": true
   },
   "outputs": [],
   "source": [
    "dies = ['A', 'B']\n",
    "colors = ['red', 'green', 'blue']\n",
    "\n",
    "# p(side|die):\n",
    "A_probs = torch.tensor([0.0, 0.2, 0.8])\n",
    "B_probs =torch.tensor([0.1, 0.3, 0.6])\n",
    "roll = (lambda die_idx: dist.Categorical(A_probs)\n",
    "              if die_idx==0 else dist.Categorical(B_probs))\n",
    "\n",
    "# p(side):\n",
    "side_prior = dist.Categorical(torch.tensor([0.3, 0.3, 0.3]))\n",
    "\n",
    "# p(die):\n",
    "die_prior = dist.Bernoulli(torch.tensor(0.5))\n",
    "\n",
    "# helpers:\n",
    "to_color = lambda color_idx: colors[int(color_idx)]\n",
    "to_color_idx = lambda color: torch.tensor(\n",
    "    colors.index(color))\n",
    "to_die_name = lambda die_idx: dies[int(die_idx)]\n",
    "to_die_idx = lambda die_name: torch.tensor(dies.index(die_name))\n"
   ]
  },
  {
   "cell_type": "markdown",
   "metadata": {},
   "source": [
    "##### Test\n",
    "priors:"
   ]
  },
  {
   "cell_type": "code",
   "execution_count": 60,
   "metadata": {},
   "outputs": [
    {
     "data": {
      "text/plain": [
       "'blue'"
      ]
     },
     "execution_count": 60,
     "metadata": {},
     "output_type": "execute_result"
    }
   ],
   "source": [
    "to_color(roll(to_die_idx('A')).sample())"
   ]
  },
  {
   "cell_type": "markdown",
   "metadata": {},
   "source": [
    "##### Define\n",
    "init for recursion:"
   ]
  },
  {
   "cell_type": "code",
   "execution_count": 73,
   "metadata": {
    "collapsed": true
   },
   "outputs": [],
   "source": [
    "def learner_init(side, count=0):\n",
    "    # counter:\n",
    "    count += 1;\n",
    "    \n",
    "    # p(die):\n",
    "    die = pyro.sample(\"ldie\", die_prior)\n",
    "\n",
    "    # p(lside|die):\n",
    "    side_dist = roll(die)\n",
    "    lside = pyro.sample(\"lside\", side_dist)\n",
    "\n",
    "    if lside == side:\n",
    "        return(die)\n",
    "    return(learner_init(side, count=count))"
   ]
  },
  {
   "cell_type": "markdown",
   "metadata": {},
   "source": [
    "##### Testing\n",
    "init conditioning:"
   ]
  },
  {
   "cell_type": "code",
   "execution_count": 74,
   "metadata": {},
   "outputs": [
    {
     "data": {
      "text/plain": [
       "'B'"
      ]
     },
     "execution_count": 74,
     "metadata": {},
     "output_type": "execute_result"
    }
   ],
   "source": [
    "to_die_name(learner_init(to_color_idx('green')))"
   ]
  },
  {
   "cell_type": "code",
   "execution_count": 75,
   "metadata": {},
   "outputs": [
    {
     "name": "stdout",
     "output_type": "stream",
     "text": [
      "{0, 1}\n",
      "Using matplotlib backend: Qt5Agg\n"
     ]
    },
    {
     "data": {
      "text/plain": [
       "(array([36., 64.]), array([0. , 0.5, 1. ]), <a list of 2 Patch objects>)"
      ]
     },
     "execution_count": 75,
     "metadata": {},
     "output_type": "execute_result"
    }
   ],
   "source": [
    "data = [int(learner_init(to_color_idx('green'))) for i in range(100)]\n",
    "# print(data)\n",
    "classes = set(data)\n",
    "print(classes)\n",
    "\n",
    "%matplotlib\n",
    "# plt.figure(figsize=(10,1))\n",
    "plt.hist(data, len(classes), # density=True, \n",
    "        orientation='horizontal', stacked=True,\n",
    "        rwidth=0.1, label = [str(c) for c in classes])\n"
   ]
  },
  {
   "cell_type": "markdown",
   "metadata": {},
   "source": [
    "##### Main recursion loop:"
   ]
  },
  {
   "cell_type": "markdown",
   "metadata": {},
   "source": [
    "Here we define learner and teacher loop. The learner, given side, must guess the die. The teacher want for the learner to guess correctly, so it try to get learner side with use of which the learner can better to judge about the die.<br><br>\n",
    "`\n",
    "learner(side): {die| die = die_prior(), equal(side, teacher(die)) \n",
    "teacher(die): {side| side = side_prior(), equal(side, learner(side))}\n",
    "`<br><br>\n",
    "So we have \"pair of mutually recursive functions\" [1] here.\n",
    "The `depth` and `learner_init` used for fix this."
   ]
  },
  {
   "cell_type": "code",
   "execution_count": 80,
   "metadata": {
    "collapsed": true
   },
   "outputs": [],
   "source": [
    "def learner(tside, depth, count=0):\n",
    "    if depth == 0:\n",
    "        # itit:\n",
    "        die = learner_init(tside, count=count)\n",
    "        return(die)\n",
    "    depth -= 1\n",
    "    die = learner_loop(tside, depth, count=count)\n",
    "    return(die)\n",
    "\n",
    "def learner_loop(tside, depth, count=0):\n",
    "\n",
    "    # counter:\n",
    "    count += 1;\n",
    "       \n",
    "    # ldie (sim)|(throu teacher)|tside (fixed)=ttside (sim):\n",
    "    ldie = pyro.sample(\"ldie\", die_prior)\n",
    "    ttside = teacher(ldie, depth)\n",
    "    if ttside == tside:\n",
    "        return(ldie)\n",
    "    return(learner_loop(tside, depth, count=count))\n",
    "\n",
    "def teacher(ldie, depth):\n",
    "    # tside (sim)|(throu lerner)|ldie (fixed)=lldie (sim):\n",
    "    tside = pyro.sample(\"tside\", side_prior)\n",
    "    lldie = learner(tside, depth)\n",
    "    if lldie == ldie:\n",
    "        return(tside)\n",
    "    return(teacher(ldie, depth))"
   ]
  },
  {
   "cell_type": "markdown",
   "metadata": {},
   "source": [
    "### Test:"
   ]
  },
  {
   "cell_type": "markdown",
   "metadata": {},
   "source": [
    "If `depth=0` means that the learner not use teacher and just assume more probable from `learner_init` (which is 'B')."
   ]
  },
  {
   "cell_type": "code",
   "execution_count": 77,
   "metadata": {},
   "outputs": [
    {
     "data": {
      "text/plain": [
       "'A'"
      ]
     },
     "execution_count": 77,
     "metadata": {},
     "output_type": "execute_result"
    }
   ],
   "source": [
    "to_die_name(learner(to_color_idx('green'), 0))"
   ]
  },
  {
   "cell_type": "code",
   "execution_count": 66,
   "metadata": {},
   "outputs": [
    {
     "name": "stdout",
     "output_type": "stream",
     "text": [
      "tensor([0.0000, 0.2000, 0.8000])\n",
      "tensor([0.1000, 0.3000, 0.6000])\n"
     ]
    }
   ],
   "source": [
    "print(A_probs)\n",
    "print(B_probs)"
   ]
  },
  {
   "cell_type": "code",
   "execution_count": 78,
   "metadata": {},
   "outputs": [
    {
     "name": "stdout",
     "output_type": "stream",
     "text": [
      "{0, 1}\n",
      "Using matplotlib backend: Qt5Agg\n"
     ]
    },
    {
     "data": {
      "text/plain": [
       "(array([44., 56.]), array([0. , 0.5, 1. ]), <a list of 2 Patch objects>)"
      ]
     },
     "execution_count": 78,
     "metadata": {},
     "output_type": "execute_result"
    }
   ],
   "source": [
    "data = [int(learner(to_color_idx('green'), 0)) for i in range(100)]\n",
    "# print(data)\n",
    "classes = set(data)\n",
    "print(classes)\n",
    "\n",
    "%matplotlib\n",
    "# plt.figure(figsize=(10,1))\n",
    "plt.hist(data, len(classes), # density=True, \n",
    "        orientation='horizontal', stacked=True,\n",
    "        rwidth=0.1, label = dies)\n"
   ]
  },
  {
   "cell_type": "markdown",
   "metadata": {},
   "source": [
    "Now, with `depth=1`, learner lerns with judge about teacher motivs, so\n",
    "\"Now die A becomes the better inference, because “if the teacher had meant to communicate B, they would have shown the red side because that can never come from A.”\" [1]:"
   ]
  },
  {
   "cell_type": "code",
   "execution_count": 81,
   "metadata": {},
   "outputs": [
    {
     "data": {
      "text/plain": [
       "'B'"
      ]
     },
     "execution_count": 81,
     "metadata": {},
     "output_type": "execute_result"
    }
   ],
   "source": [
    "to_die_name(learner(to_color_idx('green'), 1))"
   ]
  },
  {
   "cell_type": "code",
   "execution_count": 72,
   "metadata": {},
   "outputs": [
    {
     "name": "stdout",
     "output_type": "stream",
     "text": [
      "tensor([0.0000, 0.2000, 0.8000])\n",
      "tensor([0.1000, 0.3000, 0.6000])\n"
     ]
    }
   ],
   "source": [
    "print(A_probs)\n",
    "print(B_probs)"
   ]
  },
  {
   "cell_type": "code",
   "execution_count": 87,
   "metadata": {},
   "outputs": [
    {
     "name": "stdout",
     "output_type": "stream",
     "text": [
      "{0, 1}\n",
      "Using matplotlib backend: Qt5Agg\n"
     ]
    },
    {
     "data": {
      "text/plain": [
       "(array([187., 113.]), array([0. , 0.5, 1. ]), <a list of 2 Patch objects>)"
      ]
     },
     "execution_count": 87,
     "metadata": {},
     "output_type": "execute_result"
    }
   ],
   "source": [
    "data = [int(learner(to_color_idx('green'), 1)) for i in range(300)]\n",
    "# print(data)\n",
    "classes = set(data)\n",
    "print(classes)\n",
    "\n",
    "%matplotlib\n",
    "# plt.figure(figsize=(10,1))\n",
    "plt.hist(data, len(classes), # density=True, \n",
    "        orientation='horizontal', stacked=True,\n",
    "        rwidth=0.1, label = dies)\n"
   ]
  },
  {
   "cell_type": "markdown",
   "metadata": {},
   "source": [
    "##### TODO:\n",
    "   Implement using `pyro.infer`"
   ]
  },
  {
   "cell_type": "code",
   "execution_count": 3,
   "metadata": {
    "collapsed": true
   },
   "outputs": [],
   "source": [
    "# setup the optimizer:\n",
    "adam_params = {\"lr\": 0.05, \"betas\": (0.9, 0.999)}\n",
    "optimizer = pyro.optim.Adam(adam_params)\n",
    "\n",
    "# setup the loss:\n",
    "loss = pyro.infer.Trace_ELBO()"
   ]
  },
  {
   "cell_type": "code",
   "execution_count": null,
   "metadata": {
    "collapsed": true
   },
   "outputs": [],
   "source": [
    "def rd_inference(guess):\n",
    "    def rd_model(guess):\n",
    "        pyro.param('ldie_a', torch.tensor(1.0))\n",
    "        pyro.sample(\"ldie\", dist.Categorical(torch.ones(3)))\n",
    "        \n",
    "    def rd_guide(guess):\n",
    "        pyro.param('ldie', torch.tensor())\n",
    "        return(pyro.sample(\"ldie\", die_prior))\n",
    "    \n",
    "    def roll_die(die):\n",
    "        \n",
    "        \n",
    "    side = roll_die()\n",
    "    rd_cond = pyro.condition(rd_guide, data={'lside': side,\n",
    "                                             'tside':side})"
   ]
  },
  {
   "cell_type": "code",
   "execution_count": null,
   "metadata": {
    "collapsed": true
   },
   "outputs": [],
   "source": [
    "def t_guide(tdie):\n",
    "    aside = pyro.param(\"aside\", torch.tensor(1))\n",
    "    bside = pyro.param(\"bside\", torch.tensor(1))\n",
    "    cside = pyro.param(\"cside\", torch.tensor(1))\n",
    "\n",
    "    return(pyro.sample(\"tside\",\n",
    "                       dist.Categorical(torch.tensor([aside, bside, cside]))))\n",
    "\n",
    "def t_cond(tdie):\n",
    "    tdie = pyro.sample(\"tdie\", die_prior, obs=pyro.param('ldie'))\n",
    "    pyro.sample(\"tside\", side_prior,obs=tside)\n",
    "    \n",
    "def l_guide(tside):\n",
    "    a = pyro.param('a', torch.tensor(1))\n",
    "    res = pyro.sample('ldie', dist.Bernoulli(a))\n",
    "    \n",
    "def l_cond(tside):\n",
    "    \n",
    "    ldie = pyro.sample(\"ldie\", die_prior)\n",
    "    tside = pyro.sample(\"tside\",\n",
    "                        dist.Categorical(torch.tensor([\n",
    "                            pyro.param('aside'),\n",
    "                            pyro.param('bside'),\n",
    "                            pyro.param('cside')]))\n",
    "    lside = pyro.sample(\"lside\", side_prior, obs=tside)\n",
    "    "
   ]
  },
  {
   "cell_type": "code",
   "execution_count": null,
   "metadata": {
    "collapsed": true
   },
   "outputs": [],
   "source": [
    "def lerner_inference(guess):\n",
    "    def lerner_model(guess):\n",
    "        ldie = pyro.sample(\"ldie\", die_prior)\n",
    "        lside = pyro.sample(\"lside\", side_prior)\n",
    "        return(lside)\n",
    "    \n",
    "    def lerner_guide(guess):\n",
    "        return(pyro.sample(\"ldie\", die_prior))\n",
    "\n",
    "    lerner_cond = pyro.condition(lerner_model,\n",
    "                                  data={\"lside\": pyro.param('tside').item()})\n",
    "    svi = pyro.infer.SVI(model=lerner_cond,\n",
    "                     guide=lerner_guide,\n",
    "                     optim=optimizer,\n",
    "                     loss=loss)\n",
    "    return(svi)"
   ]
  },
  {
   "cell_type": "code",
   "execution_count": 3,
   "metadata": {
    "collapsed": true
   },
   "outputs": [],
   "source": [
    "def teacher_inference(guess):\n",
    "    def teacher_guide(guess):\n",
    "        return(pyro.sample(\"tside\", side_prior))\n",
    "\n",
    "    teacher_cond = pyro.condition(teacher_guide,\n",
    "                                  data={\"tdie\": pyro.param('ldie').item()})\n",
    "    svi = pyro.infer.SVI(model=teacher_cond,\n",
    "                     guide=teacher_guide,\n",
    "                     optim=optimizer,\n",
    "                     loss=loss)\n",
    "    return(svi)"
   ]
  },
  {
   "cell_type": "code",
   "execution_count": 4,
   "metadata": {},
   "outputs": [
    {
     "ename": "KeyError",
     "evalue": "'ldie'",
     "output_type": "error",
     "traceback": [
      "\u001b[0;31m---------------------------------------------------------------------------\u001b[0m",
      "\u001b[0;31mKeyError\u001b[0m                                  Traceback (most recent call last)",
      "\u001b[0;32m<ipython-input-4-f549de2ceba1>\u001b[0m in \u001b[0;36m<module>\u001b[0;34m()\u001b[0m\n\u001b[1;32m      1\u001b[0m \u001b[0mpyro\u001b[0m\u001b[0;34m.\u001b[0m\u001b[0mclear_param_store\u001b[0m\u001b[0;34m(\u001b[0m\u001b[0;34m)\u001b[0m\u001b[0;34m\u001b[0m\u001b[0m\n\u001b[0;32m----> 2\u001b[0;31m \u001b[0msvi\u001b[0m \u001b[0;34m=\u001b[0m \u001b[0mteacher_inference\u001b[0m\u001b[0;34m(\u001b[0m\u001b[0;36m1.0\u001b[0m\u001b[0;34m)\u001b[0m\u001b[0;34m\u001b[0m\u001b[0m\n\u001b[0m\u001b[1;32m      3\u001b[0m \u001b[0msvi\u001b[0m\u001b[0;34m.\u001b[0m\u001b[0mstep\u001b[0m\u001b[0;34m(\u001b[0m\u001b[0;36m1.0\u001b[0m\u001b[0;34m)\u001b[0m\u001b[0;34m\u001b[0m\u001b[0m\n",
      "\u001b[0;32m<ipython-input-3-67bed1f7170e>\u001b[0m in \u001b[0;36mteacher_inference\u001b[0;34m(guess)\u001b[0m\n\u001b[1;32m      4\u001b[0m \u001b[0;34m\u001b[0m\u001b[0m\n\u001b[1;32m      5\u001b[0m     teacher_cond = pyro.condition(teacher_guide,\n\u001b[0;32m----> 6\u001b[0;31m                                   data={\"tdie\": pyro.param('ldie').item()})\n\u001b[0m\u001b[1;32m      7\u001b[0m     svi = pyro.infer.SVI(model=conditioned_coin_obs,\n\u001b[1;32m      8\u001b[0m                      \u001b[0mguide\u001b[0m\u001b[0;34m=\u001b[0m\u001b[0mteacher_guide\u001b[0m\u001b[0;34m,\u001b[0m\u001b[0;34m\u001b[0m\u001b[0m\n",
      "\u001b[0;32m~/anaconda3/envs/math/lib/python3.6/site-packages/pyro/primitives.py\u001b[0m in \u001b[0;36mparam\u001b[0;34m(name, *args, **kwargs)\u001b[0m\n\u001b[1;32m     59\u001b[0m     \"\"\"\n\u001b[1;32m     60\u001b[0m     \u001b[0mkwargs\u001b[0m\u001b[0;34m[\u001b[0m\u001b[0;34m\"name\"\u001b[0m\u001b[0;34m]\u001b[0m \u001b[0;34m=\u001b[0m \u001b[0mname\u001b[0m\u001b[0;34m\u001b[0m\u001b[0m\n\u001b[0;32m---> 61\u001b[0;31m     \u001b[0;32mreturn\u001b[0m \u001b[0m_param\u001b[0m\u001b[0;34m(\u001b[0m\u001b[0mname\u001b[0m\u001b[0;34m,\u001b[0m \u001b[0;34m*\u001b[0m\u001b[0margs\u001b[0m\u001b[0;34m,\u001b[0m \u001b[0;34m**\u001b[0m\u001b[0mkwargs\u001b[0m\u001b[0;34m)\u001b[0m\u001b[0;34m\u001b[0m\u001b[0m\n\u001b[0m\u001b[1;32m     62\u001b[0m \u001b[0;34m\u001b[0m\u001b[0m\n\u001b[1;32m     63\u001b[0m \u001b[0;34m\u001b[0m\u001b[0m\n",
      "\u001b[0;32m~/anaconda3/envs/math/lib/python3.6/site-packages/pyro/poutine/runtime.py\u001b[0m in \u001b[0;36m_fn\u001b[0;34m(*args, **kwargs)\u001b[0m\n\u001b[1;32m    242\u001b[0m \u001b[0;34m\u001b[0m\u001b[0m\n\u001b[1;32m    243\u001b[0m         \u001b[0;32mif\u001b[0m \u001b[0;32mnot\u001b[0m \u001b[0mam_i_wrapped\u001b[0m\u001b[0;34m(\u001b[0m\u001b[0;34m)\u001b[0m\u001b[0;34m:\u001b[0m\u001b[0;34m\u001b[0m\u001b[0m\n\u001b[0;32m--> 244\u001b[0;31m             \u001b[0;32mreturn\u001b[0m \u001b[0mfn\u001b[0m\u001b[0;34m(\u001b[0m\u001b[0;34m*\u001b[0m\u001b[0margs\u001b[0m\u001b[0;34m,\u001b[0m \u001b[0;34m**\u001b[0m\u001b[0mkwargs\u001b[0m\u001b[0;34m)\u001b[0m\u001b[0;34m\u001b[0m\u001b[0m\n\u001b[0m\u001b[1;32m    245\u001b[0m         \u001b[0;32melse\u001b[0m\u001b[0;34m:\u001b[0m\u001b[0;34m\u001b[0m\u001b[0m\n\u001b[1;32m    246\u001b[0m             msg = {\n",
      "\u001b[0;32m~/anaconda3/envs/math/lib/python3.6/site-packages/pyro/params/param_store.py\u001b[0m in \u001b[0;36mget_param\u001b[0;34m(self, name, init_tensor, constraint, event_dim)\u001b[0m\n\u001b[1;32m    206\u001b[0m         \"\"\"\n\u001b[1;32m    207\u001b[0m         \u001b[0;32mif\u001b[0m \u001b[0minit_tensor\u001b[0m \u001b[0;32mis\u001b[0m \u001b[0;32mNone\u001b[0m\u001b[0;34m:\u001b[0m\u001b[0;34m\u001b[0m\u001b[0m\n\u001b[0;32m--> 208\u001b[0;31m             \u001b[0;32mreturn\u001b[0m \u001b[0mself\u001b[0m\u001b[0;34m[\u001b[0m\u001b[0mname\u001b[0m\u001b[0;34m]\u001b[0m\u001b[0;34m\u001b[0m\u001b[0m\n\u001b[0m\u001b[1;32m    209\u001b[0m         \u001b[0;32melse\u001b[0m\u001b[0;34m:\u001b[0m\u001b[0;34m\u001b[0m\u001b[0m\n\u001b[1;32m    210\u001b[0m             \u001b[0;32mreturn\u001b[0m \u001b[0mself\u001b[0m\u001b[0;34m.\u001b[0m\u001b[0msetdefault\u001b[0m\u001b[0;34m(\u001b[0m\u001b[0mname\u001b[0m\u001b[0;34m,\u001b[0m \u001b[0minit_tensor\u001b[0m\u001b[0;34m,\u001b[0m \u001b[0mconstraint\u001b[0m\u001b[0;34m)\u001b[0m\u001b[0;34m\u001b[0m\u001b[0m\n",
      "\u001b[0;32m~/anaconda3/envs/math/lib/python3.6/site-packages/pyro/params/param_store.py\u001b[0m in \u001b[0;36m__getitem__\u001b[0;34m(self, name)\u001b[0m\n\u001b[1;32m    103\u001b[0m         \u001b[0mGet\u001b[0m \u001b[0mthe\u001b[0m \u001b[0;34m*\u001b[0m\u001b[0mconstrained\u001b[0m\u001b[0;34m*\u001b[0m \u001b[0mvalue\u001b[0m \u001b[0mof\u001b[0m \u001b[0ma\u001b[0m \u001b[0mnamed\u001b[0m \u001b[0mparameter\u001b[0m\u001b[0;34m.\u001b[0m\u001b[0;34m\u001b[0m\u001b[0m\n\u001b[1;32m    104\u001b[0m         \"\"\"\n\u001b[0;32m--> 105\u001b[0;31m         \u001b[0munconstrained_value\u001b[0m \u001b[0;34m=\u001b[0m \u001b[0mself\u001b[0m\u001b[0;34m.\u001b[0m\u001b[0m_params\u001b[0m\u001b[0;34m[\u001b[0m\u001b[0mname\u001b[0m\u001b[0;34m]\u001b[0m\u001b[0;34m\u001b[0m\u001b[0m\n\u001b[0m\u001b[1;32m    106\u001b[0m \u001b[0;34m\u001b[0m\u001b[0m\n\u001b[1;32m    107\u001b[0m         \u001b[0;31m# compute the constrained value\u001b[0m\u001b[0;34m\u001b[0m\u001b[0;34m\u001b[0m\u001b[0m\n",
      "\u001b[0;31mKeyError\u001b[0m: 'ldie'"
     ]
    }
   ],
   "source": [
    "pyro.clear_param_store()\n",
    "svi = teacher_inference(1.0)\n",
    "svi.step(1.0)"
   ]
  },
  {
   "cell_type": "code",
   "execution_count": null,
   "metadata": {
    "collapsed": true
   },
   "outputs": [],
   "source": []
  }
 ],
 "metadata": {
  "kernelspec": {
   "display_name": "Python [conda env:math]",
   "language": "python",
   "name": "conda-env-math-py"
  },
  "language_info": {
   "codemirror_mode": {
    "name": "ipython",
    "version": 3
   },
   "file_extension": ".py",
   "mimetype": "text/x-python",
   "name": "python",
   "nbconvert_exporter": "python",
   "pygments_lexer": "ipython3",
   "version": "3.6.2"
  }
 },
 "nbformat": 4,
 "nbformat_minor": 2
}
