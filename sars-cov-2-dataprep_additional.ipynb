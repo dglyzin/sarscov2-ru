{
 "cells": [
  {
   "cell_type": "code",
   "execution_count": 1,
   "metadata": {
    "collapsed": false
   },
   "outputs": [],
   "source": [
    "from ete3 import Tree\n",
    "import Bio\n",
    "import matplotlib.pyplot as plt"
   ]
  },
  {
   "cell_type": "markdown",
   "metadata": {},
   "source": [
    "# 1. For .fasta:"
   ]
  },
  {
   "cell_type": "markdown",
   "metadata": {},
   "source": [
    "### `Biotite`\n",
    "https://www.biotite-python.org/tutorial/index.html"
   ]
  },
  {
   "cell_type": "code",
   "execution_count": 199,
   "metadata": {
    "collapsed": true
   },
   "outputs": [],
   "source": [
    "import utils_additional as utils\n",
    "import numpy as np\n",
    "import matplotlib.pyplot as plt\n",
    "import biotite.sequence as seq\n",
    "import biotite.sequence.align as align\n",
    "import biotite.sequence.io.fasta as fasta\n",
    "import biotite.database.entrez as entrez\n",
    "import biotite.sequence.graphics as graphics\n"
   ]
  },
  {
   "cell_type": "markdown",
   "metadata": {},
   "source": [
    "access fasta file:"
   ]
  },
  {
   "cell_type": "code",
   "execution_count": 4,
   "metadata": {
    "collapsed": false
   },
   "outputs": [],
   "source": [
    "genfilename = \"data/sars-cov-2/2020_04_27/2020-05-11-gisaid_corrected_rus.fasta\"\n",
    "\n",
    "# parse sequences:\n",
    "fasta_file = fasta.FastaFile.read(genfilename)"
   ]
  },
  {
   "cell_type": "markdown",
   "metadata": {},
   "source": [
    "access sequence:"
   ]
  },
  {
   "cell_type": "code",
   "execution_count": 46,
   "metadata": {
    "collapsed": false
   },
   "outputs": [],
   "source": [
    "items = fasta_file.items()\n",
    "name1, seq1str = next(items.__iter__())\n",
    "name2, seq2str = next(items.__iter__())\n"
   ]
  },
  {
   "cell_type": "markdown",
   "metadata": {},
   "source": [
    "extending alphabet and create sequence object:"
   ]
  },
  {
   "cell_type": "code",
   "execution_count": 51,
   "metadata": {
    "collapsed": false
   },
   "outputs": [],
   "source": [
    "# extending alphabet with '-' symbol:\n",
    "alph = seq.Alphabet(['A', 'C', 'G', 'T', '-'])\n",
    "\n",
    "seq1 = seq.GeneralSequence(alphabet=alph, sequence=seq1str)\n",
    "seq2 = seq.GeneralSequence(alphabet=alph, sequence=seq2str)\n",
    "\n",
    "# seq.ProteinSequence.get_alphabet?\n",
    "# seq.ProteinSequence(entry[1])"
   ]
  },
  {
   "cell_type": "markdown",
   "metadata": {},
   "source": [
    "create sustitution matrix:"
   ]
  },
  {
   "cell_type": "code",
   "execution_count": 62,
   "metadata": {
    "collapsed": false
   },
   "outputs": [
    {
     "name": "stdout",
     "output_type": "stream",
     "text": [
      "\n",
      "\n",
      "Identity matrix\n",
      "\n",
      "    A   C   G   T   -\n",
      "A   1   0   0   0  -1\n",
      "C   0   1   0   0  -1\n",
      "G   0   0   1   0  -1\n",
      "T   0   0   0   1  -1\n",
      "-  -1  -1  -1  -1  -2\n"
     ]
    }
   ],
   "source": [
    "# create a matrix by directly provding the ndarray\n",
    "# containing the similarity scores\n",
    "# (identity matrix in our case)\n",
    "scores = np.identity(len(alph), dtype=int)\n",
    "scores[-1,:] = -1\n",
    "scores[:,-1] = -1\n",
    "scores[-1,-1] = -2\n",
    "matrix = align.SubstitutionMatrix(alph, alph, scores)\n",
    "print(\"\\n\\nIdentity matrix\\n\")\n",
    "print(matrix)"
   ]
  },
  {
   "cell_type": "markdown",
   "metadata": {},
   "source": [
    "alignment example:"
   ]
  },
  {
   "cell_type": "code",
   "execution_count": 2,
   "metadata": {
    "collapsed": false
   },
   "outputs": [
    {
     "name": "stdout",
     "output_type": "stream",
     "text": [
      "seqs:  ['TTTAAGTA', 'ATAGAC']\n",
      "alphabet\n",
      "['A', 'C', 'G', 'T']\n"
     ]
    }
   ],
   "source": [
    "seq1str = utils.gen_nucleotide_sequence(8)\n",
    "seq2str = utils.gen_nucleotide_sequence(6)\n",
    "print(\"seqs: \", [seq1str, seq2str])\n",
    "\n",
    "seq1 = seq.NucleotideSequence(seq1str)\n",
    "seq2 = seq.NucleotideSequence(seq2str)\n",
    "print(\"alphabet\")\n",
    "print(seq1.get_alphabet())"
   ]
  },
  {
   "cell_type": "code",
   "execution_count": 3,
   "metadata": {
    "collapsed": false
   },
   "outputs": [
    {
     "name": "stdout",
     "output_type": "stream",
     "text": [
      "    A   C   G   T\n",
      "A   5  -4  -4  -4\n",
      "C  -4   5  -4  -4\n",
      "G  -4  -4   5  -4\n",
      "T  -4  -4  -4   5\n"
     ]
    },
    {
     "data": {
      "image/png": "[encoded data removed]",
      "text/plain": [
       "<Figure size 576x180 with 2 Axes>"
      ]
     },
     "metadata": {
      "needs_background": "light"
     },
     "output_type": "display_data"
    }
   ],
   "source": [
    "# Get BLOSUM62 matrix\n",
    "matrix = align.SubstitutionMatrix.std_nucleotide_matrix()\n",
    "print(matrix)\n",
    "\n",
    "# Perform pairwise sequence alignment with affine gap penalty\n",
    "# Terminal gaps are not penalized\n",
    "alignments = align.align_optimal(seq1, seq2, matrix,\n",
    "                                 gap_penalty=(-10, -1), terminal_penalty=False)\n",
    "\n",
    "# Draw first and only alignment\n",
    "# The color intensity indicates the similiarity\n",
    "fig = plt.figure(figsize=(8.0, 2.5))\n",
    "ax = fig.add_subplot(111)\n",
    "graphics.plot_alignment_similarity_based(\n",
    "    ax, alignments[0], matrix=matrix, labels=[\"seq1\", \"seq2\"],\n",
    "    show_numbers=True, show_line_position=True\n",
    ")\n",
    "fig.tight_layout()\n",
    "\n",
    "plt.show()"
   ]
  },
  {
   "cell_type": "code",
   "execution_count": 201,
   "metadata": {
    "collapsed": true
   },
   "outputs": [],
   "source": [
    "align.align_multiple?\n",
    "seq.GeneralSequence"
   ]
  },
  {
   "cell_type": "code",
   "execution_count": 22,
   "metadata": {
    "collapsed": false
   },
   "outputs": [
    {
     "name": "stdout",
     "output_type": "stream",
     "text": [
      "aligment:\n",
      "T-TAACTA\n",
      "-GGC--CG\n",
      "TAGCTTCG\n",
      "TA-CAT-A\n",
      "\n",
      "distances:\n",
      "[[0.        2.350316  1.2310306 1.0908663]\n",
      " [2.350316  0.        1.0573694 2.2064412]\n",
      " [1.2310306 1.0573694 0.        1.0367744]\n",
      " [1.0908663 2.2064412 1.0367744 0.       ]]\n",
      "\n",
      "tree:\n",
      "labels: (((seq4,seq3),seq1),seq2);\n",
      "original sequences: (((TACATA,TAGCTTCG),TTAACTA),GGCCG);\n",
      "aligmented sequences: (((TA-CAT-A,TAGCTTCG),T-TAACTA),-GGC--CG);\n"
     ]
    },
    {
     "data": {
      "image/png": "[encoded data removed]",
      "text/plain": [
       "<Figure size 432x432 with 1 Axes>"
      ]
     },
     "metadata": {
      "needs_background": "light"
     },
     "output_type": "display_data"
    }
   ],
   "source": [
    "# some times not work, try again:\n",
    "sequences_str = [utils.gen_nucleotide_sequence(i) for i in [7, 5, 8, 6]]\n",
    "sequences = [seq.NucleotideSequence(seq_str) for seq_str in sequences_str]\n",
    "\n",
    "alignment, order, tree, distances = align.align_multiple(\n",
    "    sequences, matrix)\n",
    "print(\"aligment:\")\n",
    "print(alignment)\n",
    "\n",
    "print(\"\\ndistances:\")\n",
    "print(distances)\n",
    "\n",
    "print(\"\\ntree:\")\n",
    "print(\"labels:\", tree.to_newick(\n",
    "         labels=[\"seq1\", \"seq2\", \"seq3\", \"seq4\"], include_distance=False))\n",
    "\n",
    "print(\"original sequences:\", tree.to_newick(\n",
    "         labels=sequences_str, include_distance=False))\n",
    "\n",
    "print(\"aligmented sequences:\", tree.to_newick(\n",
    "         labels=alignment.get_gapped_sequences(), include_distance=False))\n",
    "\n",
    "ig, ax = plt.subplots(figsize=(6.0, 6.0))\n",
    "graphics.plot_dendrogram(ax, tree, labels=sequences_str)\n",
    "fig.tight_layout()"
   ]
  },
  {
   "cell_type": "code",
   "execution_count": 26,
   "metadata": {
    "collapsed": false
   },
   "outputs": [],
   "source": [
    "import biotite.application.blast as blast"
   ]
  },
  {
   "cell_type": "code",
   "execution_count": 27,
   "metadata": {
    "collapsed": true
   },
   "outputs": [],
   "source": [
    "blast.BlastAlignment??"
   ]
  },
  {
   "cell_type": "markdown",
   "metadata": {},
   "source": [
    "### `Bio`"
   ]
  },
  {
   "cell_type": "code",
   "execution_count": 2,
   "metadata": {
    "collapsed": false
   },
   "outputs": [
    {
     "name": "stdout",
     "output_type": "stream",
     "text": [
      "len(record):\n",
      "29941\n",
      "\n",
      "record.id:\n",
      "hCov19/France/Lyon_06464_/2020|EPI_ISL_416753\n",
      "\n",
      "record.name:\n",
      "hCov19/France/Lyon_06464_/2020|EPI_ISL_416753\n",
      "\n",
      "record.description:\n",
      "hCov19/France/Lyon_06464_/2020|EPI_ISL_416753\n",
      "\n",
      "SeqRecord:\n",
      "ID: hCov19/France/Lyon_06464_/2020|EPI_ISL_416753\n",
      "Name: hCov19/France/Lyon_06464_/2020|EPI_ISL_416753\n",
      "Description: hCov19/France/Lyon_06464_/2020|EPI_ISL_416753\n",
      "Number of features: 0\n",
      "Seq('------------------------------------------------------...---', SingleLetterAlphabet())\n"
     ]
    }
   ],
   "source": [
    "from Bio import SeqIO\n",
    "\n",
    "genfilename = \"data/sars-cov-2/2020_04_27/2020-05-11-gisaid_corrected_rus.fasta\"\n",
    "\n",
    "records_gen = SeqIO.parse(genfilename, \"fasta\")\n",
    "\n",
    "\n",
    "record = next(records_gen)\n",
    "\n",
    "print(\"len(record):\")\n",
    "print(len(record))\n",
    "\n",
    "print(\"\\nrecord.id:\")\n",
    "print(record.id)\n",
    "\n",
    "print(\"\\nrecord.name:\")\n",
    "print(record.name)\n",
    "\n",
    "print(\"\\nrecord.description:\")\n",
    "print(record.description)\n",
    "\n",
    "# long string:\n",
    "# print(record.seq)\n",
    "\n",
    "print(\"\\nSeqRecord:\")\n",
    "print(record)"
   ]
  },
  {
   "cell_type": "code",
   "execution_count": 16,
   "metadata": {
    "collapsed": false
   },
   "outputs": [
    {
     "name": "stdout",
     "output_type": "stream",
     "text": [
      "frequencies:\n",
      "{'A': 8889, 'C': 5461, 'G': 5845, 'T': 9565, '-': 181}\n",
      "total\n",
      "29941\n",
      "A 0.29688387161417457\n",
      "C 0.18239203767409237\n",
      "G 0.195217260612538\n",
      "T 0.31946160782872984\n",
      "- 0.0060452222704652486\n"
     ]
    }
   ],
   "source": [
    "frequencies = dict([(base, record.seq.count(base))\n",
    "                    for base in [\"A\", \"C\", \"G\", \"T\", \"-\"]])\n",
    "print(\"frequencies:\")\n",
    "print(frequencies)\n",
    "total = sum(frequencies.values())\n",
    "print(\"total:\")\n",
    "print(total)\n",
    "for base in frequencies:\n",
    "    print(base, frequencies[base]/total)"
   ]
  },
  {
   "cell_type": "code",
   "execution_count": 63,
   "metadata": {
    "collapsed": false
   },
   "outputs": [],
   "source": [
    "# print(record.seq)"
   ]
  },
  {
   "cell_type": "code",
   "execution_count": 71,
   "metadata": {
    "collapsed": false
   },
   "outputs": [
    {
     "name": "stdout",
     "output_type": "stream",
     "text": [
      "{'A': 6, 'C': 5, 'G': 5, 'T': 8}\n"
     ]
    }
   ],
   "source": [
    "# find longest seq\n",
    "\n",
    "import re\n",
    "\n",
    "seq = str(record.seq).replace(\"-\", \"\")\n",
    "\n",
    "lbases = {}\n",
    "\n",
    "for base in [\"A\", \"C\", \"G\", \"T\"]:\n",
    "    longest = re.findall('[%s]+' % base, seq)\n",
    "    longest.sort(key=lambda elm: len(elm),reverse=True)\n",
    "    lbases[base] = len(longest[0])\n",
    "print(lbases)\n",
    "    \n"
   ]
  },
  {
   "cell_type": "code",
   "execution_count": null,
   "metadata": {
    "collapsed": true
   },
   "outputs": [],
   "source": []
  },
  {
   "cell_type": "code",
   "execution_count": 66,
   "metadata": {
    "collapsed": false
   },
   "outputs": [],
   "source": [
    "replacer = (lambda seq, bases: replacer(seq.replace(bases.pop(),\n",
    "                                                    str(len(bases))), bases)\n",
    "            if len(bases)!=0 else seq)\n",
    "# [\"A\"->0,\"C\"->1,\"G\"->2,\"T\"->3,\"-\"->4]\n",
    "seq1 = replacer(str(seq), [\"A\", \"C\", \"G\", \"T\"])\n"
   ]
  },
  {
   "cell_type": "code",
   "execution_count": 48,
   "metadata": {
    "collapsed": false
   },
   "outputs": [],
   "source": [
    "'''\n",
    "from functools import reduce\n",
    "\n",
    "# removing long seq's:\n",
    "lseq = [int(base) for base in seq]\n",
    "f = lambda acc, x: acc+[x] if (x!=acc[-1]) else acc\n",
    "rlseq = reduce(f, lseq, [5, 5])\n",
    "'''"
   ]
  },
  {
   "cell_type": "code",
   "execution_count": 50,
   "metadata": {
    "collapsed": false
   },
   "outputs": [
    {
     "data": {
      "text/plain": [
       "{'0': 6055, '1': 4580, '2': 4756, '3': 6357, '4': 15, '5': 2}"
      ]
     },
     "execution_count": 50,
     "metadata": {},
     "output_type": "execute_result"
    }
   ],
   "source": [
    "'''\n",
    "# rlseq frequencies:\n",
    "rseq = \"\".join([str(base) for base in rlseq])\n",
    "rlfrequencies = dict([(base, rseq.count(base)) for base in [\"0\",\"1\",\"2\",\"3\",\"4\",\"5\"]])\n",
    "rlfrequencies\n",
    "'''"
   ]
  },
  {
   "cell_type": "code",
   "execution_count": 70,
   "metadata": {
    "collapsed": false
   },
   "outputs": [
    {
     "data": {
      "text/plain": [
       "<BarContainer object of 300 artists>"
      ]
     },
     "execution_count": 70,
     "metadata": {},
     "output_type": "execute_result"
    },
    {
     "data": {
      "image/png": "[encoded data removed]",
      "text/plain": [
       "<Figure size 1440x360 with 1 Axes>"
      ]
     },
     "metadata": {
      "needs_background": "light"
     },
     "output_type": "display_data"
    }
   ],
   "source": [
    "# 5 is init and must be igrnored\n",
    "N = 300\n",
    "xs = list(range(N))\n",
    "plt.figure(figsize=(20, 5))\n",
    "\n",
    "# [\"A\"->0,\"C\"->1,\"G\"->2,\"T\"->3,\"-\"->4]\n",
    "plt.yticks([0,1,2,3], ('A', 'C', 'G', 'T'))\n",
    "plt.bar(xs,list(seq[:N]))"
   ]
  },
  {
   "cell_type": "markdown",
   "metadata": {},
   "source": [
    "# 2. For trees:"
   ]
  },
  {
   "cell_type": "markdown",
   "metadata": {},
   "source": [
    "### `Dendropy`\n",
    "https://dendropy.org/primer/index.html"
   ]
  },
  {
   "cell_type": "code",
   "execution_count": 104,
   "metadata": {
    "collapsed": true
   },
   "outputs": [],
   "source": [
    "import dendropy\n",
    "\n",
    "file_tree = \"data/sars-cov-2/2020_04_27/sarscov2_20200427.fin.treefile.tre\"\n",
    "\n",
    "tree1 = dendropy.Tree.get(path=file_tree, schema=\"nexus\")\n"
   ]
  },
  {
   "cell_type": "markdown",
   "metadata": {},
   "source": [
    "collect ru nodes:"
   ]
  },
  {
   "cell_type": "code",
   "execution_count": 151,
   "metadata": {
    "collapsed": false
   },
   "outputs": [
    {
     "name": "stdout",
     "output_type": "stream",
     "text": [
      "node.level():  25\n",
      "\n",
      "node.description():\n",
      "Node object at 0x7fb0d9177cc0<Node object at 0x7fb0d9177cc0: 'None' (<Taxon 0x7fb0d9177d30 'Russia/StPetersburg-82005/2020|EPI_ISL_428897|2020-03-24'>)>\n",
      "    [Edge]\n",
      "        Edge object at 0x7fb0d9177cf8 (140397533166840, Length=6.6e-05)\n",
      "    [Taxon]\n",
      "         Taxon object at 0x7fb0d9177d30: 'Russia/StPetersburg-82005/2020|EPI_ISL_428897|2020-03-24'\n",
      "    [Parent]\n",
      "        Node object at 0x7fb0d9177a90<Node object at 0x7fb0d9177a90: 'None' (None)>\n",
      "    [Children]\n",
      "        None\n"
     ]
    }
   ],
   "source": [
    "test_ru = (lambda node: \"russ\" in str(node.taxon).lower()\n",
    "           if node.taxon is not None else False)\n",
    "nodes_ru =tree1.nodes(test_ru)\n",
    "nodes_ru.sort(key=lambda node: node.level())\n",
    "\n",
    "edges = tree1.edges()\n",
    "node = nodes_ru[0]\n",
    "edge = edges[-3]\n",
    "print(\"node.level(): \",node.level())\n",
    "print(\"\\nnode.description():\")\n",
    "print(node.description())"
   ]
  },
  {
   "cell_type": "code",
   "execution_count": null,
   "metadata": {
    "collapsed": true
   },
   "outputs": [],
   "source": [
    "'''\n",
    "print(len(node.child_nodes()))\n",
    "print(node.taxon)\n",
    "print(edge.label)\n",
    "print(node.description())\n",
    "print(edge.description())\n",
    "'''"
   ]
  },
  {
   "cell_type": "markdown",
   "metadata": {},
   "source": [
    "ru tree:"
   ]
  },
  {
   "cell_type": "code",
   "execution_count": 154,
   "metadata": {
    "collapsed": false
   },
   "outputs": [],
   "source": [
    "tree_ru = tree1.extract_tree(node_filter_fn=test_ru)"
   ]
  },
  {
   "cell_type": "code",
   "execution_count": 155,
   "metadata": {
    "collapsed": false
   },
   "outputs": [
    {
     "name": "stdout",
     "output_type": "stream",
     "text": [
      "              / Russia/Moscow-80402/2020|EPI_ISL_428905|2020-03-23            \n",
      "              +                                                               \n",
      "              + Russia/Moscow-67117/2020|EPI_ISL_428875|2020-03-16            \n",
      "              |                                                               \n",
      "             /+ Russia/Krasnoyarsk-66501/2020|EPI_ISL_428871|2020-03-13       \n",
      "             ||                                                               \n",
      "             +\\ Russia/StPetersburg-RII3997/2020|EPI_ISL_420081|2020-03-18    \n",
      "             |                                                                \n",
      "             |/ Russia/StPetersburg-RII4386V/2020|EPI_ISL_427312|2020-03-29   \n",
      "             ++                                                               \n",
      "             |\\ Russia/StPetersburg-RII5247S/2020|EPI_ISL_430091|2020-04-10   \n",
      "             |                                                                \n",
      "            /+- Russia/Sverdlovsk-84302/2020|EPI_ISL_428923|2020-03-27        \n",
      "            ||                                                                \n",
      "            ||/ Russia/Sakhalin-84401/2020|EPI_ISL_428912|2020-03-27          \n",
      "            +\\+                                                               \n",
      "            | \\ Russia/Sverdlovsk-71904/2020|EPI_ISL_428873|2020-03-19        \n",
      "            |                                                                 \n",
      "            +-- Russia/Moscow-77628/2020|EPI_ISL_428904|2020-03-22            \n",
      "            |                                                                 \n",
      "            | / Russia/Moscow-71602/2020|EPI_ISL_428877|2020-03-19            \n",
      "            |-+                                                               \n",
      "           /+ | Russia/Krasnodar-80902/2020|EPI_ISL_428892|2020-03-23         \n",
      "           || +                                                               \n",
      "           || \\ Russia/Orenburg-80305/2020|EPI_ISL_428902|2020-03-23          \n",
      "           ||                                                                 \n",
      " /---------+\\-- Russia/Chelyabinsk-85311/2020|EPI_ISL_428924|2020-03-28       \n",
      " |         |                                                                  \n",
      " |         |  / Russia/Chechenya-83801/2020|EPI_ISL_428909|2020-03-26         \n",
      " |         |  +                                                               \n",
      " |         |  | Russia/Chechenya-83803/2020|EPI_ISL_428916|2020-03-26         \n",
      " |         \\--+                                                               \n",
      " |            | Russia/Khabarovsk-71403/2020|EPI_ISL_428880|2020-03-19        \n",
      " |            +                                                               \n",
      " |            \\ Russia/StPetersburg-3524/2020|EPI_ISL_415710|2020-03-15       \n",
      " |                                                                            \n",
      " |            / Russia/StPetersburg-RII5170S/2020|EPI_ISL_430089|2020-04-09   \n",
      " |            +                                                               \n",
      " |            + Russia/Buryatia-87105/2020|EPI_ISL_428920|2020-03-30          \n",
      " |            |                                                               \n",
      " |           /+ Russia/Buryatia-87104/2020|EPI_ISL_428914|2020-03-30          \n",
      " |           ||                                                               \n",
      " |           +\\ Russia/StPetersburg-RII6060S/2020|EPI_ISL_430107|2020-04-15   \n",
      " |           |                                                                \n",
      " |           +- Russia/StPetersburg-RII4532V/2020|EPI_ISL_427313|2020-04-03   \n",
      " |           |                                                                \n",
      " |          /+- Russia/StPetersburg-64304/2020|EPI_ISL_428868|2020-03-13      \n",
      " |          ||                                                                \n",
      " |          +\\- Russia/Buryatia-88903/2020|EPI_ISL_428911|2020-04-01          \n",
      " |          |                                                                 \n",
      " |          +-- Russia/Primorskiy-79001/2020|EPI_ISL_428903|2020-03-22        \n",
      " |          |                                                                 \n",
      " |         /+-- Russia/Buryatia-87106/2020|EPI_ISL_428919|2020-03-30          \n",
      " |         ||                                                                 \n",
      " |         +\\-- Russia/Buryatia-84506/2020|EPI_ISL_428894|2020-03-27          \n",
      " |         |                                                                  \n",
      " |         +--- Russia/StPetersburg-RII6065S/2020|EPI_ISL_430110|2020-04-15   \n",
      " |         |                                                                  \n",
      " |        /+--- Russia/Ulan-Ude-RII4562V/2020|EPI_ISL_430112|2020-03-25       \n",
      " |        ||                                                                  \n",
      " |        +\\--- Russia/StPetersburg-RII4332S/2020|EPI_ISL_427339|2020-03-25   \n",
      " |        |                                                                   \n",
      " |        +---- Russia/StPetersburg-RII4328S/2020|EPI_ISL_427338|2020-03-25   \n",
      " |        |                                                                   \n",
      " |       /+---- Russia/Sakha-84801/2020|EPI_ISL_428896|2020-03-27             \n",
      " |       ||                                                                   \n",
      " |       +\\---- Russia/Buryatia-84508/2020|EPI_ISL_428913|2020-03-27          \n",
      " |       |                                                                    \n",
      " |       +----- Russia/Tatarstan-82208/2020|EPI_ISL_428917|2020-03-24         \n",
      " |       |                                                                    \n",
      " |      /+----- Russia/StPetersburg-RII5169S/2020|EPI_ISL_430088|2020-04-09   \n",
      " |      ||                                                                    \n",
      " |      +\\----- Russia/StPetersburg-RII6043S/2020|EPI_ISL_430103|2020-04-14   \n",
      " |      |                                                                     \n",
      " |      |     / Russia/StPetersburg-RII4655S/2020|EPI_ISL_427322|2020-04-05   \n",
      " |      +-----+                                                               \n",
      " |      |     \\ Russia/Yakutia-73703/2020|EPI_ISL_428888|2020-03-20           \n",
      " |      |                                                                     \n",
      " |     /+------ Russia/Sverdlovsk-86704/2020|EPI_ISL_428922|2020-03-30        \n",
      " |     ||                                                                     \n",
      " |     ||     / Russia/Moscow-67609/2020|EPI_ISL_428882|2020-03-16            \n",
      " |     +\\-----+                                                               \n",
      " |     |      \\ Russia/Samara-73403/2020|EPI_ISL_428886|2020-03-20            \n",
      " |     |                                                                      \n",
      " |     |------- Russia/Perm-82707/2020|EPI_ISL_428895|2020-03-24              \n",
      " |     |                                                                      \n",
      " |     |      / Russia/Moscow-71605/2020|EPI_ISL_428872|2020-03-19            \n",
      " |/----+      +                                                               \n",
      " ||    |      + Russia/Moscow-62506/2020|EPI_ISL_428862|2020-03-11            \n",
      " ||    |      |                                                               \n",
      " ||    |     /+ Russia/Moscow_64405/2020|EPI_ISL_428869|2020-03-13            \n",
      " ||    |     ||                                                               \n",
      " ||    |     || Russia/StPetersburg-RII6086S/2020|EPI_ISL_430111|2020-04-15   \n",
      " ||    |     |+                                                               \n",
      " ||    \\-----+| Russia/Krasnodar-63401/2020|EPI_ISL_428867|2020-03-11         \n",
      " ||          |+                                                               \n",
      " ||          |\\ Russia/Lipetsk-62707/2020|EPI_ISL_428866|2020-03-11           \n",
      " ||          |                                                                \n",
      " ||          \\- Russia/Lipetsk-62704/2020|EPI_ISL_428865|2020-03-11           \n",
      " ||                                                                           \n",
      " ||           / Russia/StPetersburg-RII4584S/2020|EPI_ISL_427316|2020-04-03   \n",
      " ||           +                                                               \n",
      " ||           + Russia/StPetersburg-RII4693S/2020|EPI_ISL_427325|2020-04-07   \n",
      " ||           |                                                               \n",
      " +|          /+ Russia/StPetersburg-RII4969S/2020|EPI_ISL_430076|2020-04-10   \n",
      " ||          ||                                                               \n",
      " ||          +\\ Russia/StPetersburg-RII4726S/2020|EPI_ISL_427334|2020-04-07   \n",
      " ||          |                                                                \n",
      " ||          +- Russia/StPetersburg-RII4705S/2020|EPI_ISL_430067|2020-04-07   \n",
      " ||          |                                                                \n",
      " ||         /+- Russia/StPetersburg-RII4780S/2020|EPI_ISL_430069|2020-04-07   \n",
      " ||         ||                                                                \n",
      " ||         +\\- Russia/StPetersburg-RII4984S/2020|EPI_ISL_430081|2020-04-10   \n",
      " ||         |                                                                 \n",
      " ||         +-- Russia/StPetersburg-RII4697S/2020|EPI_ISL_427328|2020-04-07   \n",
      " ||         |                                                                 \n",
      " ||        /+-- Russia/StPetersburg-RII4938S/2020|EPI_ISL_430073|2020-04-08   \n",
      " ||        ||                                                                 \n",
      " ||        +\\-- Russia/StPetersburg-RII4711S/2020|EPI_ISL_427330|2020-04-07   \n",
      " ||        |                                                                  \n",
      " ||        +--- Russia/StPetersburg-RII4694S/2020|EPI_ISL_427326|2020-04-07   \n",
      " ||        |                                                                  \n",
      " ||       /+--- Russia/StPetersburg-RII4985S/2020|EPI_ISL_430082|2020-04-10   \n",
      " ||       ||                                                                  \n",
      " ||       +\\--- Russia/StPetersburg-RII4728S/2020|EPI_ISL_427335|2020-04-07   \n",
      " ||       |                                                                   \n",
      " ||       +---- Russia/StPetersburg-RII5643S/2020|EPI_ISL_430096|2020-04-14   \n",
      " ||       |                                                                   \n",
      " ||      /+---- Russia/StPetersburg-RII5047S/2020|EPI_ISL_430087|2020-04-10   \n",
      " ||      ||                                                                   \n",
      " ||      +\\---- Russia/StPetersburg-RII4696S/2020|EPI_ISL_427327|2020-04-07   \n",
      " ||      |                                                                    \n",
      " ||      +----- Russia/StPetersburg-RII4713S/2020|EPI_ISL_427331|2020-04-07   \n",
      " ||      |                                                                    \n",
      " ||     /+----- Russia/StPetersburg-RII4712V/2020|EPI_ISL_430068|2020-04-07   \n",
      " ||     ||                                                                    \n",
      " ||     +\\----- Russia/StPetersburg-RII4686S/2020|EPI_ISL_427324|2020-04-07   \n",
      " ||     |                                                                     \n",
      " ||     +------ Russia/StPetersburg-RII6039S/2020|EPI_ISL_430102|2020-04-14   \n",
      " ||     |                                                                     \n",
      " ||    /+------ Russia/StPetersburg-RII4723S/2020|EPI_ISL_427332|2020-04-07   \n",
      " ||    ||                                                                     \n",
      " ||    +\\------ Russia/StPetersburg-RII5033S/2020|EPI_ISL_430086|2020-04-10   \n",
      " ||    |                                                                      \n",
      " ||    +------- Russia/StPetersburg-RII4781S/2020|EPI_ISL_427336|2020-04-07   \n",
      " ||    |                                                                      \n",
      " |+    +------- Russia/StPetersburg-RII5029S/2020|EPI_ISL_430085|2020-04-10   \n",
      " ||    |                                                                      \n",
      " ||   /+------- Russia/StPetersburg-RII5642S/2020|EPI_ISL_430095|2020-04-14   \n",
      " ||   ||                                                                      \n",
      " ||   +\\------- Russia/StPetersburg-RII4591S/2020|EPI_ISL_427318|2020-04-03   \n",
      " ||   |                                                                       \n",
      " ||   +-------- Russia/StPetersburg-RII5644S/2020|EPI_ISL_430097|2020-04-14   \n",
      " ||   |                                                                       \n",
      " ||   |       / Russia/StPetersburg-RII4706S/2020|EPI_ISL_427815|2020-04-07   \n",
      " ||  /+-------+                                                               \n",
      " ||  ||       \\ Russia/StPetersburg-RII4970S/2020|EPI_ISL_430077|2020-04-10   \n",
      " ||  ||                                                                       \n",
      " ||  +|       / Russia/StPetersburg-RII4707S/2020|EPI_ISL_427329|2020-04-07   \n",
      " ||  |\\-------+                                                               \n",
      " ||  |        \\ Russia/StPetersburg-RII4724S/2020|EPI_ISL_427333|2020-04-07   \n",
      " ||  +                                                                        \n",
      " ||  |--------- Russia/StPetersburg-RII4585S/2020|EPI_ISL_427317|2020-04-03   \n",
      "/+|  |                                                                        \n",
      "|||  |--------- Russia/StPetersburg-RII4988S/2020|EPI_ISL_430083|2020-04-10   \n",
      "|||  |                                                                        \n",
      "|||  |        / Russia/StPetersburg-RII4972S/2020|EPI_ISL_430078|2020-04-10   \n",
      "|||  |        +                                                               \n",
      "||| /+        + Russia/StPetersburg-RII5654S/2020|EPI_ISL_430098|2020-04-14   \n",
      "||| ||        |                                                               \n",
      "||| ||       /+ Russia/StPetersburg-RII5635S/2020|EPI_ISL_430094|2020-04-14   \n",
      "||| ||       ||                                                               \n",
      "||| ||       +\\ Russia/StPetersburg-RII4983S/2020|EPI_ISL_430080|2020-04-10   \n",
      "||| ||       |                                                                \n",
      "||| +|       +- Russia/StPetersburg-RII5633S/2020|EPI_ISL_430092|2020-04-14   \n",
      "||| ||       |                                                                \n",
      "||| |\\-------+- Russia/StPetersburg-RII5634S/2020|EPI_ISL_430093|2020-04-14   \n",
      "||| |        |                                                                \n",
      "||| +        \\- Russia/StPetersburg-RII4980S/2020|EPI_ISL_430079|2020-04-10   \n",
      "||| |                                                                         \n",
      "||| |---------- Russia/StPetersburg-RII4917S/2020|EPI_ISL_430070|2020-04-07   \n",
      "||| |                                                                         \n",
      "|||/+---------- Russia/Moscow-25I/2020|EPI_ISL_428851|2020-04-02              \n",
      "|||||                                                                         \n",
      "|||||         / Russia/Moscow-62502/2020|EPI_ISL_428864|2020-03-11            \n",
      "|||||         +                                                               \n",
      "|||||         | Russia/Moscow-62508/2020|EPI_ISL_428863|2020-03-11            \n",
      "|||+\\---------+                                                               \n",
      "||||          | Russia/StPetersburg-RII4307V/2020|EPI_ISL_427308|2020-03-24   \n",
      "||||          +                                                               \n",
      "||||          \\ Russia/StPetersburg-RII4308V/2020|EPI_ISL_427309|2020-03-24   \n",
      "||||                                                                          \n",
      "|||+          / Russia/Moscow-35I/2020|EPI_ISL_428852|2020-04-02              \n",
      "||||----------+                                                               \n",
      "||||          \\ Russia/Novosibirsk-84101/2020|EPI_ISL_428918|2020-03-27       \n",
      "||||                                                                          \n",
      "|||+          / Russia/Sakha-89702/2020|EPI_ISL_428907|2020-04-01             \n",
      "||||----------+                                                               \n",
      "||||          \\ Russia/StPetersburg-RII6056S/2020|EPI_ISL_430106|2020-04-15   \n",
      "||||                                                                          \n",
      "|||\\----------- Russia/Buryatia-84504/2020|EPI_ISL_428906|2020-03-27          \n",
      "|||                                                                           \n",
      "|||           / Russia/StPetersburg-RII5017V/2020|EPI_ISL_430084|2020-04-09   \n",
      "|||-----------+                                                               \n",
      "|||           \\ Russia/StPetersburg-RII6063S/2020|EPI_ISL_430109|2020-04-15   \n",
      "|||                                                                           \n",
      "||+           / Russia/Moscow-77610/2020|EPI_ISL_428887|2020-03-22            \n",
      "|||           +                                                               \n",
      "|||           + Russia/Yakutia-83301/2020|EPI_ISL_428891|2020-03-25           \n",
      "|||           |                                                               \n",
      "|||          /+ Russia/Yakutia-73709/2020|EPI_ISL_428874|2020-03-20           \n",
      "|||          ||                                                               \n",
      "|||          |\\ Russia/Moscow-77620/2020|EPI_ISL_428889|2020-03-22            \n",
      "||\\----------+                                                                \n",
      "||           |/ Russia/Khabarovsk-88201/2020|EPI_ISL_428910|2020-03-31        \n",
      "||           |+                                                               \n",
      "||           \\+ Russia/Moscow-67142/2020|EPI_ISL_428881|2020-03-16            \n",
      "||            |                                                               \n",
      "||            \\ Russia/Moscow_PMVL-1/2020|EPI_ISL_421275|2020-03-18           \n",
      "||                                                                            \n",
      "+|------------- Russia/StPetersburg-RII4944S/2020|EPI_ISL_430074|2020-04-08   \n",
      "||                                                                            \n",
      "|\\------------- Russia/Moscow-71604/2020|EPI_ISL_428876|2020-03-19            \n",
      "|                                                                             \n",
      "|             / Russia/Moscow-77627/2020|EPI_ISL_428884|2020-03-22            \n",
      "|            /+                                                               \n",
      "|            || Russia/StPetersburg-RII4678S/2020|EPI_ISL_427323|2020-04-06   \n",
      "|            |+                                                               \n",
      "|            || Russia/StPetersburg-RII4144S/2020|EPI_ISL_427307|2020-03-20   \n",
      "|            ++                                                               \n",
      "|            |\\ Russia/StPetersburg-RII4649S/2020|EPI_ISL_427321|2020-04-05   \n",
      "|            |                                                                \n",
      "|            |/ Russia/StPetersburg-RII5244S/2020|EPI_ISL_430090|2020-04-10   \n",
      "|          /-++                                                               \n",
      "|          | |\\ Russia/StPetersburg-RII6061S/2020|EPI_ISL_430108|2020-04-15   \n",
      "|          | |                                                                \n",
      "|          | |/ Russia/StPetersburg-RII4637S/2020|EPI_ISL_427320|2020-04-05   \n",
      "|          | |+                                                               \n",
      "|          | \\+ Russia/StPetersburg-RII4937S/2020|EPI_ISL_430072|2020-04-08   \n",
      "|          |  |                                                               \n",
      "|          |  \\ Russia/StPetersburg-RII4597S/2020|EPI_ISL_427319|2020-04-04   \n",
      "|          |                                                                  \n",
      "|          |  / Russia/Pskov-83602/2020|EPI_ISL_428908|2020-03-25             \n",
      "|          |  +                                                               \n",
      "|          |  + Russia/StPetersburg-RII6027S/2020|EPI_ISL_430100|2020-04-14   \n",
      "|          +  |                                                               \n",
      "|          | /+ Russia/StPetersburg-RII4949S/2020|EPI_ISL_430075|2020-04-09   \n",
      "|          | ||                                                               \n",
      "|          | +\\ Russia/StPetersburg-RII4382V/2020|EPI_ISL_427310|2020-03-29   \n",
      "|          | |                                                                \n",
      "|          | +- Russia/Sverdlovsk-82904/2020|EPI_ISL_428915|2020-03-25        \n",
      "|          | |                                                                \n",
      "|          |/+- Russia/Omsk-89001/2020|EPI_ISL_428878|2020-04-01              \n",
      "|          +||                                                                \n",
      "|          |+\\- Russia/StPetersburg-RII5942S/2020|EPI_ISL_430099|2020-04-13   \n",
      "|          ||                                                                 \n",
      "+          |+-- Russia/StPetersburg-RII6031S/2020|EPI_ISL_430101|2020-04-14   \n",
      "|          ||                                                                 \n",
      "|         /++-- Russia/StPetersburg-RII4384V/2020|EPI_ISL_427311|2020-03-29   \n",
      "|         |||                                                                 \n",
      "|         ||\\-- Russia/StPetersburg-RII4546V/2020|EPI_ISL_427314|2020-04-02   \n",
      "|         ||                                                                  \n",
      "|         ||--- Russia/StPetersburg-RII6053S/2020|EPI_ISL_430104|2020-04-15   \n",
      "|         ||                                                                  \n",
      "|         |\\--- Russia/Sverdlovsk-71903/2020|EPI_ISL_428890|2020-03-19        \n",
      "|         |                                                                   \n",
      "|         +   / Russia/Buryatia-86204/2020|EPI_ISL_428899|2020-03-29          \n",
      "|         |   +                                                               \n",
      "|         |   + Russia/Crymea-80603/2020|EPI_ISL_428901|2020-03-23            \n",
      "|         |   |                                                               \n",
      "|         |  /+ Russia/Moscow-80112/2020|EPI_ISL_428900|2020-03-23            \n",
      "|         |  ||                                                               \n",
      "|         |  |\\ Russia/StPetersburg-RII6055S/2020|EPI_ISL_430105|2020-04-15   \n",
      "|         |  |                                                                \n",
      "|         |--+/ Russia/Moscow-62501/2020|EPI_ISL_428861|2020-03-11            \n",
      "|         |  |+                                                               \n",
      "+         |  || Russia/Moscow-62505/2020|EPI_ISL_428860|2020-03-11            \n",
      "|---------+  |+                                                               \n",
      "|         |  || Russia/Moscow-64601/2020|EPI_ISL_428870|2020-03-13            \n",
      "|         |  \\+                                                               \n",
      "|         |   | Russia/Sverdlovsk-71905/2020|EPI_ISL_428879|2020-03-19        \n",
      "|         |   |                                                               \n",
      "|         |   \\ Russia/Tver-72601/2020|EPI_ISL_428921|2020-03-19              \n",
      "|         |                                                                   \n",
      "|         |   / Russia/StPetersburg-RII4936S/2020|EPI_ISL_430071|2020-04-08   \n",
      "|         |   +                                                               \n",
      "|         |   + Russia/Samara-73406/2020|EPI_ISL_428885|2020-03-20            \n",
      "+         |   |                                                               \n",
      "|         \\---+ Russia/StPetersburg-RII3992/2020|EPI_ISL_420080|2020-03-18    \n",
      "|             |                                                               \n",
      "|             \\ Russia/StPetersburg-RII4326S/2020|EPI_ISL_427337|2020-03-25   \n",
      "|                                                                             \n",
      "|             / Russia/Kabardino-Balkaria-80501/2020|EPI_ISL_428893|2020-03-23\n",
      "|-------------+                                                               \n",
      "|             \\ Russia/Kabardino-Balkaria-80503/2020|EPI_ISL_428898|2020-03-23\n",
      "|                                                                             \n",
      "|-------------- Russia/StPetersburg-73603/2020|EPI_ISL_428883|2020-03-20      \n",
      "|                                                                             \n",
      "\\-------------- Russia/StPetersburg-82005/2020|EPI_ISL_428897|2020-03-24      \n",
      "                                                                              \n",
      "                                                                              \n"
     ]
    }
   ],
   "source": [
    "tree_ru.print_plot()"
   ]
  },
  {
   "cell_type": "markdown",
   "metadata": {},
   "source": [
    "statistics:"
   ]
  },
  {
   "cell_type": "code",
   "execution_count": 153,
   "metadata": {
    "collapsed": false
   },
   "outputs": [],
   "source": [
    "from dendropy.calculate import treemeasure"
   ]
  },
  {
   "cell_type": "code",
   "execution_count": 162,
   "metadata": {
    "collapsed": false
   },
   "outputs": [
    {
     "name": "stdout",
     "output_type": "stream",
     "text": [
      "51.98150933760357\n",
      "0.19027752584799565\n",
      "17.96\n",
      "0.35883171070931846\n"
     ]
    }
   ],
   "source": [
    "print(treemeasure.B1(tree_ru))\n",
    "print(treemeasure.colless_tree_imbalance(tree_ru))\n",
    "# print(treemeasure.pybus_harvey_gamma(tree_ru))\n",
    "print(treemeasure.sackin_index(tree_ru))\n",
    "print(treemeasure.treeness(tree_ru))"
   ]
  },
  {
   "cell_type": "markdown",
   "metadata": {},
   "source": [
    "comparing trees"
   ]
  },
  {
   "cell_type": "code",
   "execution_count": 178,
   "metadata": {
    "collapsed": true
   },
   "outputs": [],
   "source": [
    "from dendropy.calculate import treecompare"
   ]
  },
  {
   "cell_type": "code",
   "execution_count": 163,
   "metadata": {
    "collapsed": false
   },
   "outputs": [],
   "source": [
    "nodes_ru = tree_ru.nodes()"
   ]
  },
  {
   "cell_type": "code",
   "execution_count": 177,
   "metadata": {
    "collapsed": false
   },
   "outputs": [
    {
     "name": "stdout",
     "output_type": "stream",
     "text": [
      "len(tree_ru1): 68\n",
      "len(tree_ru2): 223\n"
     ]
    }
   ],
   "source": [
    "# print(nodes_ru[2].description())\n",
    "tree_ru1 = dendropy.Tree(seed_node=nodes_ru[3])\n",
    "tree_ru2 = dendropy.Tree(seed_node=nodes_ru[4])\n",
    "print(\"len(tree_ru1):\", len(tree_ru1.nodes()))\n",
    "print(\"len(tree_ru2):\", len(tree_ru2.nodes()))\n"
   ]
  },
  {
   "cell_type": "code",
   "execution_count": 183,
   "metadata": {
    "collapsed": false
   },
   "outputs": [
    {
     "name": "stdout",
     "output_type": "stream",
     "text": [
      "Unweighted Robinson-Foulds distance:\n",
      "11820\n",
      "Weighted Robinson-Foulds distance:\n",
      "0.21349300000001278\n",
      "Euclidean distance:\n",
      "0.017292319884850478\n"
     ]
    }
   ],
   "source": [
    "print(\"\\nUnweighted Robinson-Foulds distance:\")\n",
    "print(treecompare.symmetric_difference(tree1, tree2))\n",
    "\n",
    "print(\"\\nWeighted Robinson-Foulds distance:\")\n",
    "print(treecompare.weighted_robinson_foulds_distance(tree1, tree2))\n",
    "\n",
    "print(\"\\nEuclidean distance:\")\n",
    "print(treecompare.euclidean_distance(tree1, tree2))"
   ]
  },
  {
   "cell_type": "markdown",
   "metadata": {},
   "source": [
    "### `Bio.Phylo`"
   ]
  },
  {
   "cell_type": "code",
   "execution_count": 4,
   "metadata": {
    "collapsed": true
   },
   "outputs": [],
   "source": [
    "file_tree = \"data/sars-cov-2/2020_04_27/sarscov2_20200427.fin.treefile.tre\""
   ]
  },
  {
   "cell_type": "code",
   "execution_count": 6,
   "metadata": {
    "collapsed": false
   },
   "outputs": [],
   "source": [
    "from Bio import Phylo\n",
    "# expensive:\n",
    "tree = Phylo.read(file_tree, \"nexus\")\n"
   ]
  },
  {
   "cell_type": "markdown",
   "metadata": {},
   "source": [
    "### 2.0. `Phylo.draw` failure (too long):"
   ]
  },
  {
   "cell_type": "code",
   "execution_count": null,
   "metadata": {
    "collapsed": true
   },
   "outputs": [],
   "source": [
    "# failure (too long) ():\n",
    "# Phylo.draw?"
   ]
  },
  {
   "cell_type": "markdown",
   "metadata": {},
   "source": [
    "### 2.1. `Phylo.draw  # (to file)` for small trees only:"
   ]
  },
  {
   "cell_type": "code",
   "execution_count": 2,
   "metadata": {
    "collapsed": true
   },
   "outputs": [],
   "source": [
    "# for small trees only:\n",
    "# tree.ladderize()   # Flip branches so deeper clades are displayed at top\n",
    "# Phylo.draw(tree, do_show=False)\n",
    "### Phylo.draw(tree, axes=axes, label_func=get_label, do_show=False)\n",
    "\n",
    "# plt.savefig(\"data_local/tmp.png\")"
   ]
  },
  {
   "cell_type": "markdown",
   "metadata": {},
   "source": [
    "### 2.2. `Phylo.draw_ascii` not very convenient (fast):"
   ]
  },
  {
   "cell_type": "code",
   "execution_count": null,
   "metadata": {
    "collapsed": true
   },
   "outputs": [],
   "source": [
    "# for small trees only:\n",
    "# Phylo.draw_ascii(tree)"
   ]
  },
  {
   "cell_type": "markdown",
   "metadata": {},
   "source": [
    "### 2.3. `Phylo.convert` + `ete3.Tree` \"colors\" and \"labels\" not understood. Need manual fixation"
   ]
  },
  {
   "cell_type": "code",
   "execution_count": null,
   "metadata": {
    "collapsed": true
   },
   "outputs": [],
   "source": [
    "file_tree_newick = \"results/sars-cov-2_2020_04_27.txt\""
   ]
  },
  {
   "cell_type": "code",
   "execution_count": null,
   "metadata": {
    "collapsed": true
   },
   "outputs": [],
   "source": [
    "# failure (colors, labels not understood):\n",
    "Phylo.convert(file_tree, \"nexus\", file_tree_newick, \"newick\")"
   ]
  },
  {
   "cell_type": "code",
   "execution_count": null,
   "metadata": {
    "collapsed": true
   },
   "outputs": [],
   "source": [
    "# fixing color, label:\n",
    "with open(file_tree_newick, \"r\") as f:\n",
    "    data = f.read()\n",
    "out = data\n",
    "out = out.replace(\",!color=#ff0000\", '')\\\n",
    "            .replace(\"[&!color=#0000ff]\", '')\\\n",
    "            .replace(\",!color=#0000ff\",'')\\\n",
    "            .replace(\"[\\[&!color=#ff0000\\]]\", '')\\\n",
    "            .replace(\"[\\[&label=ete3_quotref_301\\]]\",'')\n",
    "# out = data.replace(\"\\\\\",\"\")# .replace(\"''\",\"'\")# .replace(\"\\'\",\"'\")#.replace(\"''\",\"'\")\n",
    "# out = data.replace(\"''\",\"'\").replace(\"\\\\\",\"\").replace(\"''\",\"\")\n",
    "#file_tree_newick_fixed = \"data_local/sars-cov-2_2020_04_27_v1.txt\"\n",
    "#with open(file_tree_newick_fixed, \"w\") as f:\n",
    "#    f.write(out)\n",
    "# print(out)\n",
    "# print(\"''\" in out)"
   ]
  },
  {
   "cell_type": "code",
   "execution_count": null,
   "metadata": {
    "collapsed": true
   },
   "outputs": [],
   "source": [
    "# failure \n",
    "# tree = Tree(out,format=1,quoted_node_names=True)\n",
    "# tree = Tree(file_tree_newick,format=1, quoted_node_names=True)"
   ]
  },
  {
   "cell_type": "code",
   "execution_count": null,
   "metadata": {
    "collapsed": true
   },
   "outputs": [],
   "source": []
  }
 ],
 "metadata": {
  "kernelspec": {
   "display_name": "biopython36",
   "language": "python",
   "name": "biopython36"
  },
  "language_info": {
   "codemirror_mode": {
    "name": "ipython",
    "version": 3
   },
   "file_extension": ".py",
   "mimetype": "text/x-python",
   "name": "python",
   "nbconvert_exporter": "python",
   "pygments_lexer": "ipython3",
   "version": "3.6.10"
  },
  "widgets": {
   "state": {},
   "version": "1.1.1"
  }
 },
 "nbformat": 4,
 "nbformat_minor": 4
}
